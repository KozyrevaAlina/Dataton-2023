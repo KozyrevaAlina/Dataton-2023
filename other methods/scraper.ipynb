{
 "cells": [
  {
   "cell_type": "code",
   "execution_count": null,
   "metadata": {},
   "outputs": [],
   "source": [
    "import requests\n",
    "import pandas as pd\n",
    "from bs4 import BeautifulSoup as bs\n",
    "from msedge.selenium_tools import Edge, EdgeOptions\n",
    "from selenium import webdriver\n",
    "from requests_html import HTMLSession\n",
    "\n",
    "session = HTMLSession()\n",
    "driver = webdriver.Chrome(\"C:/Users/1/Desktop/MIPT_education/DataTon-2022/chromedriver.exe\")\n",
    "\n",
    "def extract_items(item):\n",
    "    try:\n",
    "        atag = item.h2.a\n",
    "        description = (atag.text.strip())\n",
    "        url  = 'https://www.amazon.com' + atag.get('href')\n",
    "    except: \n",
    "        return None\n",
    "    \n",
    "    try:\n",
    "        price_parent = item.find('span','a-price-whole').text\n",
    "    except: return None\n",
    "    try:\n",
    "        stars = item.i.text\n",
    "        reviews_num = item.find('span',{'class':'a-size-base s-underline-text'}).text\n",
    "    except AttributeError:\n",
    "        stars=''\n",
    "        reviews_num=''\n",
    "    result = (description,url,price_parent,stars,reviews_num)\n",
    "    return result\n",
    "\n",
    "records = []\n",
    "url = 'https://www.amazon.com/s?k=laptop&crid=2JUKYBAPLWFUW&page={}'\n",
    "for page in range(1,21):\n",
    "    driver.get(url.format(page))\n",
    "    soup = bs(driver.page_source, 'html.parser')\n",
    "    results = soup.find_all('div',{'class':'a-section a-spacing-small a-spacing-top-small'})\n",
    "    for item in results:\n",
    "        record = extract_items(item)\n",
    "        if record:\n",
    "            records.append(record)\n",
    "driver.close()\n",
    "\n",
    "df_res=pd.DataFrame()\n",
    "records_to_df_tuple = tuple(records_to_df)\n",
    "df_res = pd.DataFrame(records_to_df_tuple,columns=['description','url','price','stars','reviews_num'])\n",
    "df_res.to_csv('Amazon_20_pages_laptops.csv')"
   ]
  }
 ],
 "metadata": {
  "kernelspec": {
   "display_name": "Python 3.10.8 64-bit",
   "language": "python",
   "name": "python3"
  },
  "language_info": {
   "name": "python",
   "version": "3.10.8"
  },
  "orig_nbformat": 4,
  "vscode": {
   "interpreter": {
    "hash": "b0fa6594d8f4cbf19f97940f81e996739fb7646882a419484c72d19e05852a7e"
   }
  }
 },
 "nbformat": 4,
 "nbformat_minor": 2
}
