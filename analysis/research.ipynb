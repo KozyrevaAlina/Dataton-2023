{
 "cells": [
  {
   "cell_type": "code",
   "execution_count": 1,
   "id": "1b34fec9-69ea-4fc3-8c0a-8b3550c22e89",
   "metadata": {},
   "outputs": [],
   "source": [
    "import numpy as np\n",
    "import pandas as pd\n",
    "import seaborn as sns\n",
    "import matplotlib.pyplot as plt"
   ]
  },
  {
   "cell_type": "code",
   "execution_count": 2,
   "id": "632085c8-0e31-497e-827c-301765769258",
   "metadata": {},
   "outputs": [],
   "source": [
    "import warnings\n",
    "warnings.filterwarnings(\"ignore\")"
   ]
  },
  {
   "cell_type": "code",
   "execution_count": 3,
   "id": "844130cb-9d81-4177-aac6-5a885f30fe7b",
   "metadata": {},
   "outputs": [
    {
     "data": {
      "text/html": [
       "<div>\n",
       "<style scoped>\n",
       "    .dataframe tbody tr th:only-of-type {\n",
       "        vertical-align: middle;\n",
       "    }\n",
       "\n",
       "    .dataframe tbody tr th {\n",
       "        vertical-align: top;\n",
       "    }\n",
       "\n",
       "    .dataframe thead th {\n",
       "        text-align: right;\n",
       "    }\n",
       "</style>\n",
       "<table border=\"1\" class=\"dataframe\">\n",
       "  <thead>\n",
       "    <tr style=\"text-align: right;\">\n",
       "      <th></th>\n",
       "      <th>Marketplace</th>\n",
       "      <th>Brand</th>\n",
       "      <th>Series</th>\n",
       "      <th>PriceNow</th>\n",
       "      <th>PriceOriginal</th>\n",
       "      <th>Guarantee_year</th>\n",
       "      <th>OS</th>\n",
       "      <th>CoresNumber</th>\n",
       "      <th>Processor</th>\n",
       "      <th>ProcessorType</th>\n",
       "      <th>...</th>\n",
       "      <th>GpuController</th>\n",
       "      <th>ScreenSize_inch</th>\n",
       "      <th>ScreenFrequency_GHz</th>\n",
       "      <th>SSDSize_GGb</th>\n",
       "      <th>RAM_GGb</th>\n",
       "      <th>RAM_type</th>\n",
       "      <th>HDMI</th>\n",
       "      <th>Material</th>\n",
       "      <th>Battery_hour</th>\n",
       "      <th>Weight_kg</th>\n",
       "    </tr>\n",
       "  </thead>\n",
       "  <tbody>\n",
       "    <tr>\n",
       "      <th>0</th>\n",
       "      <td>Mvideo</td>\n",
       "      <td>Thunderobot</td>\n",
       "      <td>GAMING</td>\n",
       "      <td>54999.0</td>\n",
       "      <td>69999</td>\n",
       "      <td>1.0</td>\n",
       "      <td>no OS</td>\n",
       "      <td>6.0</td>\n",
       "      <td>Intel</td>\n",
       "      <td>Core i5</td>\n",
       "      <td>...</td>\n",
       "      <td>GeForce GTX 1650</td>\n",
       "      <td>NaN</td>\n",
       "      <td>60.0</td>\n",
       "      <td>256.0</td>\n",
       "      <td>8.0</td>\n",
       "      <td>DDR4</td>\n",
       "      <td>1.0</td>\n",
       "      <td>plastic/metal</td>\n",
       "      <td>5.0</td>\n",
       "      <td>NaN</td>\n",
       "    </tr>\n",
       "    <tr>\n",
       "      <th>1</th>\n",
       "      <td>Mvideo</td>\n",
       "      <td>HUAWEI</td>\n",
       "      <td>Matebook D 15</td>\n",
       "      <td>58999.0</td>\n",
       "      <td>62999</td>\n",
       "      <td>1.0</td>\n",
       "      <td>Windows 11 Home</td>\n",
       "      <td>6.0</td>\n",
       "      <td>NaN</td>\n",
       "      <td>NaN</td>\n",
       "      <td>...</td>\n",
       "      <td>Radeon Graphics</td>\n",
       "      <td>NaN</td>\n",
       "      <td>NaN</td>\n",
       "      <td>512.0</td>\n",
       "      <td>16.0</td>\n",
       "      <td>DDR4</td>\n",
       "      <td>1.0</td>\n",
       "      <td>metal</td>\n",
       "      <td>7.0</td>\n",
       "      <td>NaN</td>\n",
       "    </tr>\n",
       "    <tr>\n",
       "      <th>2</th>\n",
       "      <td>Mvideo</td>\n",
       "      <td>HUAWEI</td>\n",
       "      <td>Matebook D</td>\n",
       "      <td>46999.0</td>\n",
       "      <td>56999</td>\n",
       "      <td>1.0</td>\n",
       "      <td>Windows 11 Home</td>\n",
       "      <td>4.0</td>\n",
       "      <td>NaN</td>\n",
       "      <td>NaN</td>\n",
       "      <td>...</td>\n",
       "      <td>Intel Iris Graphics 600</td>\n",
       "      <td>14.0</td>\n",
       "      <td>NaN</td>\n",
       "      <td>512.0</td>\n",
       "      <td>8.0</td>\n",
       "      <td>DDR4</td>\n",
       "      <td>1.0</td>\n",
       "      <td>metal</td>\n",
       "      <td>NaN</td>\n",
       "      <td>NaN</td>\n",
       "    </tr>\n",
       "    <tr>\n",
       "      <th>3</th>\n",
       "      <td>Mvideo</td>\n",
       "      <td>Apple</td>\n",
       "      <td>MacBook Air</td>\n",
       "      <td>80999.0</td>\n",
       "      <td>99999</td>\n",
       "      <td>1.0</td>\n",
       "      <td>macOS</td>\n",
       "      <td>8.0</td>\n",
       "      <td>NaN</td>\n",
       "      <td>NaN</td>\n",
       "      <td>...</td>\n",
       "      <td>NaN</td>\n",
       "      <td>NaN</td>\n",
       "      <td>NaN</td>\n",
       "      <td>256.0</td>\n",
       "      <td>8.0</td>\n",
       "      <td>NaN</td>\n",
       "      <td>NaN</td>\n",
       "      <td>aluminium</td>\n",
       "      <td>18.0</td>\n",
       "      <td>NaN</td>\n",
       "    </tr>\n",
       "    <tr>\n",
       "      <th>4</th>\n",
       "      <td>Mvideo</td>\n",
       "      <td>Lenovo</td>\n",
       "      <td>V15 G2 ITL</td>\n",
       "      <td>39999.0</td>\n",
       "      <td>59999</td>\n",
       "      <td>1.0</td>\n",
       "      <td>Windows 11 Home 64</td>\n",
       "      <td>4.0</td>\n",
       "      <td>NaN</td>\n",
       "      <td>NaN</td>\n",
       "      <td>...</td>\n",
       "      <td>Intel Iris Xe Graphics</td>\n",
       "      <td>NaN</td>\n",
       "      <td>NaN</td>\n",
       "      <td>256.0</td>\n",
       "      <td>8.0</td>\n",
       "      <td>DDR4</td>\n",
       "      <td>1.0</td>\n",
       "      <td>plastic</td>\n",
       "      <td>5.0</td>\n",
       "      <td>NaN</td>\n",
       "    </tr>\n",
       "    <tr>\n",
       "      <th>...</th>\n",
       "      <td>...</td>\n",
       "      <td>...</td>\n",
       "      <td>...</td>\n",
       "      <td>...</td>\n",
       "      <td>...</td>\n",
       "      <td>...</td>\n",
       "      <td>...</td>\n",
       "      <td>...</td>\n",
       "      <td>...</td>\n",
       "      <td>...</td>\n",
       "      <td>...</td>\n",
       "      <td>...</td>\n",
       "      <td>...</td>\n",
       "      <td>...</td>\n",
       "      <td>...</td>\n",
       "      <td>...</td>\n",
       "      <td>...</td>\n",
       "      <td>...</td>\n",
       "      <td>...</td>\n",
       "      <td>...</td>\n",
       "      <td>...</td>\n",
       "    </tr>\n",
       "    <tr>\n",
       "      <th>4425</th>\n",
       "      <td>WILDBERRIES</td>\n",
       "      <td>Daurenovna</td>\n",
       "      <td>NaN</td>\n",
       "      <td>37890.0</td>\n",
       "      <td>0</td>\n",
       "      <td>1.0</td>\n",
       "      <td>NaN</td>\n",
       "      <td>2.0</td>\n",
       "      <td>NaN</td>\n",
       "      <td>NaN</td>\n",
       "      <td>...</td>\n",
       "      <td>NaN</td>\n",
       "      <td>NaN</td>\n",
       "      <td>60.0</td>\n",
       "      <td>NaN</td>\n",
       "      <td>8.0</td>\n",
       "      <td>DDR4</td>\n",
       "      <td>1.0</td>\n",
       "      <td>NaN</td>\n",
       "      <td>NaN</td>\n",
       "      <td>NaN</td>\n",
       "    </tr>\n",
       "    <tr>\n",
       "      <th>4426</th>\n",
       "      <td>WILDBERRIES</td>\n",
       "      <td>CHUWI</td>\n",
       "      <td>NaN</td>\n",
       "      <td>43200.0</td>\n",
       "      <td>0</td>\n",
       "      <td>1.0</td>\n",
       "      <td>Windows</td>\n",
       "      <td>2.0</td>\n",
       "      <td>NaN</td>\n",
       "      <td>NaN</td>\n",
       "      <td>...</td>\n",
       "      <td>Intel Iris Graphics 600</td>\n",
       "      <td>NaN</td>\n",
       "      <td>60.0</td>\n",
       "      <td>512.0</td>\n",
       "      <td>8.0</td>\n",
       "      <td>DDR4</td>\n",
       "      <td>1.0</td>\n",
       "      <td>NaN</td>\n",
       "      <td>NaN</td>\n",
       "      <td>NaN</td>\n",
       "    </tr>\n",
       "    <tr>\n",
       "      <th>4427</th>\n",
       "      <td>WILDBERRIES</td>\n",
       "      <td>Ma&amp;eR</td>\n",
       "      <td>NaN</td>\n",
       "      <td>29999.0</td>\n",
       "      <td>0</td>\n",
       "      <td>1.0</td>\n",
       "      <td>Windows</td>\n",
       "      <td>4.0</td>\n",
       "      <td>NaN</td>\n",
       "      <td>NaN</td>\n",
       "      <td>...</td>\n",
       "      <td>Intel Iris Graphics 600</td>\n",
       "      <td>NaN</td>\n",
       "      <td>60.0</td>\n",
       "      <td>512.0</td>\n",
       "      <td>8.0</td>\n",
       "      <td>DDR3</td>\n",
       "      <td>1.0</td>\n",
       "      <td>plastic</td>\n",
       "      <td>5.0</td>\n",
       "      <td>NaN</td>\n",
       "    </tr>\n",
       "    <tr>\n",
       "      <th>4428</th>\n",
       "      <td>WILDBERRIES</td>\n",
       "      <td>A.O.S</td>\n",
       "      <td>NaN</td>\n",
       "      <td>26500.0</td>\n",
       "      <td>0</td>\n",
       "      <td>1.0</td>\n",
       "      <td>Windows</td>\n",
       "      <td>2.0</td>\n",
       "      <td>NaN</td>\n",
       "      <td>NaN</td>\n",
       "      <td>...</td>\n",
       "      <td>Intel Iris Graphics 600</td>\n",
       "      <td>NaN</td>\n",
       "      <td>60.0</td>\n",
       "      <td>128.0</td>\n",
       "      <td>4.0</td>\n",
       "      <td>LPDDR4</td>\n",
       "      <td>1.0</td>\n",
       "      <td>plastic</td>\n",
       "      <td>NaN</td>\n",
       "      <td>NaN</td>\n",
       "    </tr>\n",
       "    <tr>\n",
       "      <th>4429</th>\n",
       "      <td>WILDBERRIES</td>\n",
       "      <td>Irbis</td>\n",
       "      <td>NaN</td>\n",
       "      <td>12500.0</td>\n",
       "      <td>0</td>\n",
       "      <td>1.0</td>\n",
       "      <td>Windows</td>\n",
       "      <td>2.0</td>\n",
       "      <td>NaN</td>\n",
       "      <td>NaN</td>\n",
       "      <td>...</td>\n",
       "      <td>Intel HD Graphics 500</td>\n",
       "      <td>NaN</td>\n",
       "      <td>60.0</td>\n",
       "      <td>NaN</td>\n",
       "      <td>4.0</td>\n",
       "      <td>LPDDR3</td>\n",
       "      <td>1.0</td>\n",
       "      <td>plastic</td>\n",
       "      <td>NaN</td>\n",
       "      <td>NaN</td>\n",
       "    </tr>\n",
       "  </tbody>\n",
       "</table>\n",
       "<p>4430 rows × 23 columns</p>\n",
       "</div>"
      ],
      "text/plain": [
       "      Marketplace        Brand         Series  PriceNow  PriceOriginal  \\\n",
       "0          Mvideo  Thunderobot         GAMING   54999.0          69999   \n",
       "1          Mvideo       HUAWEI  Matebook D 15   58999.0          62999   \n",
       "2          Mvideo       HUAWEI     Matebook D   46999.0          56999   \n",
       "3          Mvideo        Apple    MacBook Air   80999.0          99999   \n",
       "4          Mvideo       Lenovo     V15 G2 ITL   39999.0          59999   \n",
       "...           ...          ...            ...       ...            ...   \n",
       "4425  WILDBERRIES   Daurenovna            NaN   37890.0              0   \n",
       "4426  WILDBERRIES        CHUWI            NaN   43200.0              0   \n",
       "4427  WILDBERRIES        Ma&eR            NaN   29999.0              0   \n",
       "4428  WILDBERRIES        A.O.S            NaN   26500.0              0   \n",
       "4429  WILDBERRIES        Irbis            NaN   12500.0              0   \n",
       "\n",
       "      Guarantee_year                  OS  CoresNumber Processor ProcessorType  \\\n",
       "0                1.0               no OS          6.0     Intel       Core i5   \n",
       "1                1.0     Windows 11 Home          6.0       NaN           NaN   \n",
       "2                1.0     Windows 11 Home          4.0       NaN           NaN   \n",
       "3                1.0               macOS          8.0       NaN           NaN   \n",
       "4                1.0  Windows 11 Home 64          4.0       NaN           NaN   \n",
       "...              ...                 ...          ...       ...           ...   \n",
       "4425             1.0                 NaN          2.0       NaN           NaN   \n",
       "4426             1.0             Windows          2.0       NaN           NaN   \n",
       "4427             1.0             Windows          4.0       NaN           NaN   \n",
       "4428             1.0             Windows          2.0       NaN           NaN   \n",
       "4429             1.0             Windows          2.0       NaN           NaN   \n",
       "\n",
       "      ...            GpuController  ScreenSize_inch ScreenFrequency_GHz  \\\n",
       "0     ...        GeForce GTX 1650               NaN                60.0   \n",
       "1     ...          Radeon Graphics              NaN                 NaN   \n",
       "2     ...  Intel Iris Graphics 600             14.0                 NaN   \n",
       "3     ...                      NaN              NaN                 NaN   \n",
       "4     ...   Intel Iris Xe Graphics              NaN                 NaN   \n",
       "...   ...                      ...              ...                 ...   \n",
       "4425  ...                      NaN              NaN                60.0   \n",
       "4426  ...  Intel Iris Graphics 600              NaN                60.0   \n",
       "4427  ...  Intel Iris Graphics 600              NaN                60.0   \n",
       "4428  ...  Intel Iris Graphics 600              NaN                60.0   \n",
       "4429  ...    Intel HD Graphics 500              NaN                60.0   \n",
       "\n",
       "     SSDSize_GGb  RAM_GGb  RAM_type  HDMI       Material Battery_hour  \\\n",
       "0          256.0      8.0      DDR4   1.0  plastic/metal          5.0   \n",
       "1          512.0     16.0      DDR4   1.0          metal          7.0   \n",
       "2          512.0      8.0      DDR4   1.0          metal          NaN   \n",
       "3          256.0      8.0       NaN   NaN      aluminium         18.0   \n",
       "4          256.0      8.0      DDR4   1.0        plastic          5.0   \n",
       "...          ...      ...       ...   ...            ...          ...   \n",
       "4425         NaN      8.0      DDR4   1.0            NaN          NaN   \n",
       "4426       512.0      8.0      DDR4   1.0            NaN          NaN   \n",
       "4427       512.0      8.0      DDR3   1.0        plastic          5.0   \n",
       "4428       128.0      4.0    LPDDR4   1.0        plastic          NaN   \n",
       "4429         NaN      4.0    LPDDR3   1.0        plastic          NaN   \n",
       "\n",
       "      Weight_kg  \n",
       "0           NaN  \n",
       "1           NaN  \n",
       "2           NaN  \n",
       "3           NaN  \n",
       "4           NaN  \n",
       "...         ...  \n",
       "4425        NaN  \n",
       "4426        NaN  \n",
       "4427        NaN  \n",
       "4428        NaN  \n",
       "4429        NaN  \n",
       "\n",
       "[4430 rows x 23 columns]"
      ]
     },
     "execution_count": 3,
     "metadata": {},
     "output_type": "execute_result"
    }
   ],
   "source": [
    "df = pd.read_csv(\"../datas/final.csv\", encoding=\"latin-1\", sep=\";\")\n",
    "df"
   ]
  },
  {
   "cell_type": "code",
   "execution_count": 4,
   "id": "67e895ab",
   "metadata": {},
   "outputs": [],
   "source": [
    "df = df.drop_duplicates() # удалим дубликаты\n",
    "df.dropna(how='all', axis=0, inplace=True) # удалим пустые строки"
   ]
  },
  {
   "cell_type": "code",
   "execution_count": 5,
   "id": "3a4198c0",
   "metadata": {},
   "outputs": [
    {
     "data": {
      "text/html": [
       "<div>\n",
       "<style scoped>\n",
       "    .dataframe tbody tr th:only-of-type {\n",
       "        vertical-align: middle;\n",
       "    }\n",
       "\n",
       "    .dataframe tbody tr th {\n",
       "        vertical-align: top;\n",
       "    }\n",
       "\n",
       "    .dataframe thead th {\n",
       "        text-align: right;\n",
       "    }\n",
       "</style>\n",
       "<table border=\"1\" class=\"dataframe\">\n",
       "  <thead>\n",
       "    <tr style=\"text-align: right;\">\n",
       "      <th></th>\n",
       "      <th>Marketplace</th>\n",
       "      <th>Brand</th>\n",
       "      <th>Series</th>\n",
       "      <th>PriceNow</th>\n",
       "      <th>PriceOriginal</th>\n",
       "      <th>Guarantee_year</th>\n",
       "      <th>OS</th>\n",
       "      <th>CoresNumber</th>\n",
       "      <th>Processor</th>\n",
       "      <th>ProcessorType</th>\n",
       "      <th>...</th>\n",
       "      <th>GpuController</th>\n",
       "      <th>ScreenSize_inch</th>\n",
       "      <th>ScreenFrequency_GHz</th>\n",
       "      <th>SSDSize_GGb</th>\n",
       "      <th>RAM_GGb</th>\n",
       "      <th>RAM_type</th>\n",
       "      <th>HDMI</th>\n",
       "      <th>Material</th>\n",
       "      <th>Battery_hour</th>\n",
       "      <th>Weight_kg</th>\n",
       "    </tr>\n",
       "  </thead>\n",
       "  <tbody>\n",
       "    <tr>\n",
       "      <th>1</th>\n",
       "      <td>Mvideo</td>\n",
       "      <td>HUAWEI</td>\n",
       "      <td>Matebook D 15</td>\n",
       "      <td>58999.0</td>\n",
       "      <td>62999</td>\n",
       "      <td>1.0</td>\n",
       "      <td>Windows 11 Home</td>\n",
       "      <td>6.0</td>\n",
       "      <td>NaN</td>\n",
       "      <td>NaN</td>\n",
       "      <td>...</td>\n",
       "      <td>Radeon Graphics</td>\n",
       "      <td>NaN</td>\n",
       "      <td>NaN</td>\n",
       "      <td>512.0</td>\n",
       "      <td>16.0</td>\n",
       "      <td>DDR4</td>\n",
       "      <td>1.0</td>\n",
       "      <td>metal</td>\n",
       "      <td>7.0</td>\n",
       "      <td>NaN</td>\n",
       "    </tr>\n",
       "    <tr>\n",
       "      <th>2</th>\n",
       "      <td>Mvideo</td>\n",
       "      <td>HUAWEI</td>\n",
       "      <td>Matebook D</td>\n",
       "      <td>46999.0</td>\n",
       "      <td>56999</td>\n",
       "      <td>1.0</td>\n",
       "      <td>Windows 11 Home</td>\n",
       "      <td>4.0</td>\n",
       "      <td>NaN</td>\n",
       "      <td>NaN</td>\n",
       "      <td>...</td>\n",
       "      <td>Intel Iris Graphics 600</td>\n",
       "      <td>14.0</td>\n",
       "      <td>NaN</td>\n",
       "      <td>512.0</td>\n",
       "      <td>8.0</td>\n",
       "      <td>DDR4</td>\n",
       "      <td>1.0</td>\n",
       "      <td>metal</td>\n",
       "      <td>NaN</td>\n",
       "      <td>NaN</td>\n",
       "    </tr>\n",
       "    <tr>\n",
       "      <th>3</th>\n",
       "      <td>Mvideo</td>\n",
       "      <td>Apple</td>\n",
       "      <td>MacBook Air</td>\n",
       "      <td>80999.0</td>\n",
       "      <td>99999</td>\n",
       "      <td>1.0</td>\n",
       "      <td>macOS</td>\n",
       "      <td>8.0</td>\n",
       "      <td>NaN</td>\n",
       "      <td>NaN</td>\n",
       "      <td>...</td>\n",
       "      <td>NaN</td>\n",
       "      <td>NaN</td>\n",
       "      <td>NaN</td>\n",
       "      <td>256.0</td>\n",
       "      <td>8.0</td>\n",
       "      <td>NaN</td>\n",
       "      <td>NaN</td>\n",
       "      <td>aluminium</td>\n",
       "      <td>18.0</td>\n",
       "      <td>NaN</td>\n",
       "    </tr>\n",
       "    <tr>\n",
       "      <th>4</th>\n",
       "      <td>Mvideo</td>\n",
       "      <td>Lenovo</td>\n",
       "      <td>V15 G2 ITL</td>\n",
       "      <td>39999.0</td>\n",
       "      <td>59999</td>\n",
       "      <td>1.0</td>\n",
       "      <td>Windows 11 Home 64</td>\n",
       "      <td>4.0</td>\n",
       "      <td>NaN</td>\n",
       "      <td>NaN</td>\n",
       "      <td>...</td>\n",
       "      <td>Intel Iris Xe Graphics</td>\n",
       "      <td>NaN</td>\n",
       "      <td>NaN</td>\n",
       "      <td>256.0</td>\n",
       "      <td>8.0</td>\n",
       "      <td>DDR4</td>\n",
       "      <td>1.0</td>\n",
       "      <td>plastic</td>\n",
       "      <td>5.0</td>\n",
       "      <td>NaN</td>\n",
       "    </tr>\n",
       "    <tr>\n",
       "      <th>5</th>\n",
       "      <td>Mvideo</td>\n",
       "      <td>HUAWEI</td>\n",
       "      <td>Matebook D 16</td>\n",
       "      <td>73999.0</td>\n",
       "      <td>86999</td>\n",
       "      <td>1.0</td>\n",
       "      <td>Windows 11 Home 64</td>\n",
       "      <td>14.0</td>\n",
       "      <td>NaN</td>\n",
       "      <td>NaN</td>\n",
       "      <td>...</td>\n",
       "      <td>Intel Iris Xe Graphics</td>\n",
       "      <td>16.0</td>\n",
       "      <td>NaN</td>\n",
       "      <td>512.0</td>\n",
       "      <td>16.0</td>\n",
       "      <td>DDR4</td>\n",
       "      <td>1.0</td>\n",
       "      <td>metal</td>\n",
       "      <td>7.0</td>\n",
       "      <td>NaN</td>\n",
       "    </tr>\n",
       "    <tr>\n",
       "      <th>...</th>\n",
       "      <td>...</td>\n",
       "      <td>...</td>\n",
       "      <td>...</td>\n",
       "      <td>...</td>\n",
       "      <td>...</td>\n",
       "      <td>...</td>\n",
       "      <td>...</td>\n",
       "      <td>...</td>\n",
       "      <td>...</td>\n",
       "      <td>...</td>\n",
       "      <td>...</td>\n",
       "      <td>...</td>\n",
       "      <td>...</td>\n",
       "      <td>...</td>\n",
       "      <td>...</td>\n",
       "      <td>...</td>\n",
       "      <td>...</td>\n",
       "      <td>...</td>\n",
       "      <td>...</td>\n",
       "      <td>...</td>\n",
       "      <td>...</td>\n",
       "    </tr>\n",
       "    <tr>\n",
       "      <th>4425</th>\n",
       "      <td>WILDBERRIES</td>\n",
       "      <td>Daurenovna</td>\n",
       "      <td>NaN</td>\n",
       "      <td>37890.0</td>\n",
       "      <td>0</td>\n",
       "      <td>1.0</td>\n",
       "      <td>NaN</td>\n",
       "      <td>2.0</td>\n",
       "      <td>NaN</td>\n",
       "      <td>NaN</td>\n",
       "      <td>...</td>\n",
       "      <td>NaN</td>\n",
       "      <td>NaN</td>\n",
       "      <td>60.0</td>\n",
       "      <td>NaN</td>\n",
       "      <td>8.0</td>\n",
       "      <td>DDR4</td>\n",
       "      <td>1.0</td>\n",
       "      <td>NaN</td>\n",
       "      <td>NaN</td>\n",
       "      <td>NaN</td>\n",
       "    </tr>\n",
       "    <tr>\n",
       "      <th>4426</th>\n",
       "      <td>WILDBERRIES</td>\n",
       "      <td>CHUWI</td>\n",
       "      <td>NaN</td>\n",
       "      <td>43200.0</td>\n",
       "      <td>0</td>\n",
       "      <td>1.0</td>\n",
       "      <td>Windows</td>\n",
       "      <td>2.0</td>\n",
       "      <td>NaN</td>\n",
       "      <td>NaN</td>\n",
       "      <td>...</td>\n",
       "      <td>Intel Iris Graphics 600</td>\n",
       "      <td>NaN</td>\n",
       "      <td>60.0</td>\n",
       "      <td>512.0</td>\n",
       "      <td>8.0</td>\n",
       "      <td>DDR4</td>\n",
       "      <td>1.0</td>\n",
       "      <td>NaN</td>\n",
       "      <td>NaN</td>\n",
       "      <td>NaN</td>\n",
       "    </tr>\n",
       "    <tr>\n",
       "      <th>4427</th>\n",
       "      <td>WILDBERRIES</td>\n",
       "      <td>Ma&amp;eR</td>\n",
       "      <td>NaN</td>\n",
       "      <td>29999.0</td>\n",
       "      <td>0</td>\n",
       "      <td>1.0</td>\n",
       "      <td>Windows</td>\n",
       "      <td>4.0</td>\n",
       "      <td>NaN</td>\n",
       "      <td>NaN</td>\n",
       "      <td>...</td>\n",
       "      <td>Intel Iris Graphics 600</td>\n",
       "      <td>NaN</td>\n",
       "      <td>60.0</td>\n",
       "      <td>512.0</td>\n",
       "      <td>8.0</td>\n",
       "      <td>DDR3</td>\n",
       "      <td>1.0</td>\n",
       "      <td>plastic</td>\n",
       "      <td>5.0</td>\n",
       "      <td>NaN</td>\n",
       "    </tr>\n",
       "    <tr>\n",
       "      <th>4428</th>\n",
       "      <td>WILDBERRIES</td>\n",
       "      <td>A.O.S</td>\n",
       "      <td>NaN</td>\n",
       "      <td>26500.0</td>\n",
       "      <td>0</td>\n",
       "      <td>1.0</td>\n",
       "      <td>Windows</td>\n",
       "      <td>2.0</td>\n",
       "      <td>NaN</td>\n",
       "      <td>NaN</td>\n",
       "      <td>...</td>\n",
       "      <td>Intel Iris Graphics 600</td>\n",
       "      <td>NaN</td>\n",
       "      <td>60.0</td>\n",
       "      <td>128.0</td>\n",
       "      <td>4.0</td>\n",
       "      <td>LPDDR4</td>\n",
       "      <td>1.0</td>\n",
       "      <td>plastic</td>\n",
       "      <td>NaN</td>\n",
       "      <td>NaN</td>\n",
       "    </tr>\n",
       "    <tr>\n",
       "      <th>4429</th>\n",
       "      <td>WILDBERRIES</td>\n",
       "      <td>Irbis</td>\n",
       "      <td>NaN</td>\n",
       "      <td>12500.0</td>\n",
       "      <td>0</td>\n",
       "      <td>1.0</td>\n",
       "      <td>Windows</td>\n",
       "      <td>2.0</td>\n",
       "      <td>NaN</td>\n",
       "      <td>NaN</td>\n",
       "      <td>...</td>\n",
       "      <td>Intel HD Graphics 500</td>\n",
       "      <td>NaN</td>\n",
       "      <td>60.0</td>\n",
       "      <td>NaN</td>\n",
       "      <td>4.0</td>\n",
       "      <td>LPDDR3</td>\n",
       "      <td>1.0</td>\n",
       "      <td>plastic</td>\n",
       "      <td>NaN</td>\n",
       "      <td>NaN</td>\n",
       "    </tr>\n",
       "  </tbody>\n",
       "</table>\n",
       "<p>1636 rows × 23 columns</p>\n",
       "</div>"
      ],
      "text/plain": [
       "      Marketplace       Brand         Series  PriceNow  PriceOriginal  \\\n",
       "1          Mvideo      HUAWEI  Matebook D 15   58999.0          62999   \n",
       "2          Mvideo      HUAWEI     Matebook D   46999.0          56999   \n",
       "3          Mvideo       Apple    MacBook Air   80999.0          99999   \n",
       "4          Mvideo      Lenovo     V15 G2 ITL   39999.0          59999   \n",
       "5          Mvideo      HUAWEI  Matebook D 16   73999.0          86999   \n",
       "...           ...         ...            ...       ...            ...   \n",
       "4425  WILDBERRIES  Daurenovna            NaN   37890.0              0   \n",
       "4426  WILDBERRIES       CHUWI            NaN   43200.0              0   \n",
       "4427  WILDBERRIES       Ma&eR            NaN   29999.0              0   \n",
       "4428  WILDBERRIES       A.O.S            NaN   26500.0              0   \n",
       "4429  WILDBERRIES       Irbis            NaN   12500.0              0   \n",
       "\n",
       "      Guarantee_year                  OS  CoresNumber Processor ProcessorType  \\\n",
       "1                1.0     Windows 11 Home          6.0       NaN           NaN   \n",
       "2                1.0     Windows 11 Home          4.0       NaN           NaN   \n",
       "3                1.0               macOS          8.0       NaN           NaN   \n",
       "4                1.0  Windows 11 Home 64          4.0       NaN           NaN   \n",
       "5                1.0  Windows 11 Home 64         14.0       NaN           NaN   \n",
       "...              ...                 ...          ...       ...           ...   \n",
       "4425             1.0                 NaN          2.0       NaN           NaN   \n",
       "4426             1.0             Windows          2.0       NaN           NaN   \n",
       "4427             1.0             Windows          4.0       NaN           NaN   \n",
       "4428             1.0             Windows          2.0       NaN           NaN   \n",
       "4429             1.0             Windows          2.0       NaN           NaN   \n",
       "\n",
       "      ...            GpuController  ScreenSize_inch ScreenFrequency_GHz  \\\n",
       "1     ...          Radeon Graphics              NaN                 NaN   \n",
       "2     ...  Intel Iris Graphics 600             14.0                 NaN   \n",
       "3     ...                      NaN              NaN                 NaN   \n",
       "4     ...   Intel Iris Xe Graphics              NaN                 NaN   \n",
       "5     ...   Intel Iris Xe Graphics             16.0                 NaN   \n",
       "...   ...                      ...              ...                 ...   \n",
       "4425  ...                      NaN              NaN                60.0   \n",
       "4426  ...  Intel Iris Graphics 600              NaN                60.0   \n",
       "4427  ...  Intel Iris Graphics 600              NaN                60.0   \n",
       "4428  ...  Intel Iris Graphics 600              NaN                60.0   \n",
       "4429  ...    Intel HD Graphics 500              NaN                60.0   \n",
       "\n",
       "     SSDSize_GGb  RAM_GGb  RAM_type  HDMI   Material Battery_hour  Weight_kg  \n",
       "1          512.0     16.0      DDR4   1.0      metal          7.0        NaN  \n",
       "2          512.0      8.0      DDR4   1.0      metal          NaN        NaN  \n",
       "3          256.0      8.0       NaN   NaN  aluminium         18.0        NaN  \n",
       "4          256.0      8.0      DDR4   1.0    plastic          5.0        NaN  \n",
       "5          512.0     16.0      DDR4   1.0      metal          7.0        NaN  \n",
       "...          ...      ...       ...   ...        ...          ...        ...  \n",
       "4425         NaN      8.0      DDR4   1.0        NaN          NaN        NaN  \n",
       "4426       512.0      8.0      DDR4   1.0        NaN          NaN        NaN  \n",
       "4427       512.0      8.0      DDR3   1.0    plastic          5.0        NaN  \n",
       "4428       128.0      4.0    LPDDR4   1.0    plastic          NaN        NaN  \n",
       "4429         NaN      4.0    LPDDR3   1.0    plastic          NaN        NaN  \n",
       "\n",
       "[1636 rows x 23 columns]"
      ]
     },
     "execution_count": 5,
     "metadata": {},
     "output_type": "execute_result"
    }
   ],
   "source": [
    "df[df.Processor.isnull() & df.ProcessorType.isnull()]# это удалить"
   ]
  },
  {
   "cell_type": "code",
   "execution_count": 6,
   "id": "9e4c9f28",
   "metadata": {},
   "outputs": [
    {
     "data": {
      "text/plain": [
       "Marketplace                0.000000\n",
       "Brand                      0.278422\n",
       "Series                    71.716937\n",
       "PriceNow                   5.475638\n",
       "PriceOriginal              0.000000\n",
       "Guarantee_year             0.023202\n",
       "OS                        14.524362\n",
       "CoresNumber                4.013921\n",
       "Processor                 37.958237\n",
       "ProcessorType             40.371230\n",
       "ProcessorModel            14.037123\n",
       "ProcessorFrequency_GHz    90.765661\n",
       "GpuManufacturer           30.997680\n",
       "GpuController              7.099768\n",
       "ScreenSize_inch           80.139211\n",
       "ScreenFrequency_GHz       24.153132\n",
       "SSDSize_GGb                6.658933\n",
       "RAM_GGb                    3.665893\n",
       "RAM_type                   7.726218\n",
       "HDMI                       1.484919\n",
       "Material                  10.742459\n",
       "Battery_hour              33.016241\n",
       "Weight_kg                 96.426914\n",
       "dtype: float64"
      ]
     },
     "execution_count": 6,
     "metadata": {},
     "output_type": "execute_result"
    }
   ],
   "source": [
    "df.isnull().mean() * 100"
   ]
  },
  {
   "cell_type": "markdown",
   "id": "24fdf75f",
   "metadata": {},
   "source": [
    "Не будем удалять строки с отсутствующими значениями, чтобы не уменьшить значительно датасет,так как анализ проводим по отделбным параметрам <br>\n",
    "Обработаем строки, по параметрам которые будем использовать для анализа, с пропусками:\n",
    "- OS заменить на нет данных\n",
    "- Series заменить на нет данных\n",
    "- CoresNumber заменить на нет данных\n",
    "- Guarantee_year заменить на нет данных\n",
    "- Processor заменить на нет данных\n",
    "- ProcessorType заменить на нет данных\n",
    "- ProcessorModel заменить на нет данных\n",
    "- ProcessorFrequency_GHz заменить на нет данных\n",
    "- GpuManufacturer заменить на нет данных\n",
    "- GpuController  заменить на нет данных\n",
    "- ScreenSize_inch  заменить на нет данных\n",
    "- ScreenFrequency_GHz заменить на нет данных\n",
    "- SSDSize_GGb заменить на нет данных\n",
    "- RAM_GGb  заменить на нет данных\n",
    "- RAM_type  заменить на нет данных\n",
    "- HDMI   заменить на нет данных\n",
    "- Material заменить на нет данных\n",
    "- Battery_hour  заменить на нет данных\n",
    "- Weight_kg  заменить на нет данных\n",
    "\n",
    "Удалим строки с отсутствующими значениям ив следующих столбцах:\n",
    "- Brand\n",
    "- PriceNow"
   ]
  },
  {
   "cell_type": "code",
   "execution_count": 7,
   "id": "c634eb60",
   "metadata": {},
   "outputs": [],
   "source": [
    "df.dropna(subset=['Brand'], axis=0, inplace=True)\n",
    "df.dropna(subset=['PriceNow'], axis=0, inplace=True)\n",
    "df.loc[df['OS'].isna(), 'OS'] = 'No data'\n",
    "df.loc[df['Guarantee_year'].isna(), 'OS'] = 'No data'\n",
    "\n",
    "df.loc[df['Series'].isna(), 'Series'] = 'No data'\n",
    "df.loc[df['CoresNumber'].isna(), 'CoresNumber'] = 'No data'\n",
    "df.loc[df['Processor'].isna(), 'Processor'] = 'No data'\n",
    "df.loc[df['ProcessorType'].isna(), 'ProcessorType'] = 'No data'\n",
    "df.loc[df['ProcessorModel'].isna(), 'ProcessorModel'] = 'No data'\n",
    "df.loc[df['ProcessorFrequency_GHz'].isna(), 'ProcessorFrequency_GHz'] = 'No data'\n",
    "df.loc[df['GpuManufacturer'].isna(), 'GpuManufacturer'] = 'No data'\n",
    "df.loc[df['GpuController'].isna(), 'GpuController'] = 'No data'\n",
    "df.loc[df['ScreenSize_inch'].isna(), 'ScreenSize_inch'] = 'No data'\n",
    "df.loc[df['ScreenFrequency_GHz'].isna(), 'ScreenFrequency_GHz'] = 'No data'\n",
    "df.loc[df['SSDSize_GGb'].isna(), 'SSDSize_GGb'] = 'No data'\n",
    "df.loc[df['RAM_GGb'].isna(), 'RAM_GGb'] = 'No data'\n",
    "df.loc[df['RAM_type'].isna(), 'RAM_type'] = 'No data'\n",
    "df.loc[df['HDMI'].isna(), 'HDMI'] = 'No data'\n",
    "df.loc[df['Material'].isna(), 'Material'] = 'No data'\n",
    "df.loc[df['Battery_hour'].isna(), 'Battery_hour'] = 'No data'\n",
    "df.loc[df['Weight_kg'].isna(), 'Weight_kg'] = 'No data'\n"
   ]
  },
  {
   "cell_type": "markdown",
   "id": "72de9144",
   "metadata": {},
   "source": [
    "Приведем к нижнему регистру категориальные признаки, так как на разных маркетплейсах они могут быть написаны по разному\n"
   ]
  },
  {
   "cell_type": "code",
   "execution_count": 8,
   "id": "81302090",
   "metadata": {},
   "outputs": [],
   "source": [
    "# перевод в нижний регистр\n",
    "df['Brand'] = df['Brand'].str.lower()\n",
    "df['OS'] = df['OS'].str.lower()\n",
    "df['Processor'] = df['Processor'].str.lower()\n",
    "df['ProcessorType'] = df['ProcessorType'].str.lower()\n",
    "df['ProcessorModel'] = df['ProcessorModel'].str.lower()\n",
    "df['GpuManufacturer'] = df['GpuManufacturer'].str.lower()\n",
    "df['GpuController'] = df['GpuController'].str.lower()\n",
    "df['Processor'] = df['Processor'].str.lower()\n",
    "df['RAM_type'] = df['RAM_type'].str.lower()"
   ]
  },
  {
   "cell_type": "code",
   "execution_count": 9,
   "id": "33143bf9",
   "metadata": {},
   "outputs": [
    {
     "data": {
      "text/html": [
       "<div>\n",
       "<style scoped>\n",
       "    .dataframe tbody tr th:only-of-type {\n",
       "        vertical-align: middle;\n",
       "    }\n",
       "\n",
       "    .dataframe tbody tr th {\n",
       "        vertical-align: top;\n",
       "    }\n",
       "\n",
       "    .dataframe thead th {\n",
       "        text-align: right;\n",
       "    }\n",
       "</style>\n",
       "<table border=\"1\" class=\"dataframe\">\n",
       "  <thead>\n",
       "    <tr style=\"text-align: right;\">\n",
       "      <th></th>\n",
       "      <th>Marketplace</th>\n",
       "      <th>Brand</th>\n",
       "      <th>Series</th>\n",
       "      <th>PriceNow</th>\n",
       "      <th>PriceOriginal</th>\n",
       "      <th>Guarantee_year</th>\n",
       "      <th>OS</th>\n",
       "      <th>CoresNumber</th>\n",
       "      <th>Processor</th>\n",
       "      <th>ProcessorType</th>\n",
       "      <th>...</th>\n",
       "      <th>GpuController</th>\n",
       "      <th>ScreenSize_inch</th>\n",
       "      <th>ScreenFrequency_GHz</th>\n",
       "      <th>SSDSize_GGb</th>\n",
       "      <th>RAM_GGb</th>\n",
       "      <th>RAM_type</th>\n",
       "      <th>HDMI</th>\n",
       "      <th>Material</th>\n",
       "      <th>Battery_hour</th>\n",
       "      <th>Weight_kg</th>\n",
       "    </tr>\n",
       "  </thead>\n",
       "  <tbody>\n",
       "    <tr>\n",
       "      <th>0</th>\n",
       "      <td>Mvideo</td>\n",
       "      <td>thunderobot</td>\n",
       "      <td>GAMING</td>\n",
       "      <td>54999.0</td>\n",
       "      <td>69999</td>\n",
       "      <td>1.0</td>\n",
       "      <td>no os</td>\n",
       "      <td>6.0</td>\n",
       "      <td>intel</td>\n",
       "      <td>core i5</td>\n",
       "      <td>...</td>\n",
       "      <td>geforce gtx 1650</td>\n",
       "      <td>No data</td>\n",
       "      <td>60.0</td>\n",
       "      <td>256.0</td>\n",
       "      <td>8.0</td>\n",
       "      <td>ddr4</td>\n",
       "      <td>1.0</td>\n",
       "      <td>plastic/metal</td>\n",
       "      <td>5.0</td>\n",
       "      <td>No data</td>\n",
       "    </tr>\n",
       "    <tr>\n",
       "      <th>1</th>\n",
       "      <td>Mvideo</td>\n",
       "      <td>huawei</td>\n",
       "      <td>Matebook D 15</td>\n",
       "      <td>58999.0</td>\n",
       "      <td>62999</td>\n",
       "      <td>1.0</td>\n",
       "      <td>windows 11 home</td>\n",
       "      <td>6.0</td>\n",
       "      <td>no data</td>\n",
       "      <td>no data</td>\n",
       "      <td>...</td>\n",
       "      <td>radeon graphics</td>\n",
       "      <td>No data</td>\n",
       "      <td>No data</td>\n",
       "      <td>512.0</td>\n",
       "      <td>16.0</td>\n",
       "      <td>ddr4</td>\n",
       "      <td>1.0</td>\n",
       "      <td>metal</td>\n",
       "      <td>7.0</td>\n",
       "      <td>No data</td>\n",
       "    </tr>\n",
       "    <tr>\n",
       "      <th>2</th>\n",
       "      <td>Mvideo</td>\n",
       "      <td>huawei</td>\n",
       "      <td>Matebook D</td>\n",
       "      <td>46999.0</td>\n",
       "      <td>56999</td>\n",
       "      <td>1.0</td>\n",
       "      <td>windows 11 home</td>\n",
       "      <td>4.0</td>\n",
       "      <td>no data</td>\n",
       "      <td>no data</td>\n",
       "      <td>...</td>\n",
       "      <td>intel iris graphics 600</td>\n",
       "      <td>14.0</td>\n",
       "      <td>No data</td>\n",
       "      <td>512.0</td>\n",
       "      <td>8.0</td>\n",
       "      <td>ddr4</td>\n",
       "      <td>1.0</td>\n",
       "      <td>metal</td>\n",
       "      <td>No data</td>\n",
       "      <td>No data</td>\n",
       "    </tr>\n",
       "    <tr>\n",
       "      <th>3</th>\n",
       "      <td>Mvideo</td>\n",
       "      <td>apple</td>\n",
       "      <td>MacBook Air</td>\n",
       "      <td>80999.0</td>\n",
       "      <td>99999</td>\n",
       "      <td>1.0</td>\n",
       "      <td>macos</td>\n",
       "      <td>8.0</td>\n",
       "      <td>no data</td>\n",
       "      <td>no data</td>\n",
       "      <td>...</td>\n",
       "      <td>no data</td>\n",
       "      <td>No data</td>\n",
       "      <td>No data</td>\n",
       "      <td>256.0</td>\n",
       "      <td>8.0</td>\n",
       "      <td>no data</td>\n",
       "      <td>No data</td>\n",
       "      <td>aluminium</td>\n",
       "      <td>18.0</td>\n",
       "      <td>No data</td>\n",
       "    </tr>\n",
       "    <tr>\n",
       "      <th>4</th>\n",
       "      <td>Mvideo</td>\n",
       "      <td>lenovo</td>\n",
       "      <td>V15 G2 ITL</td>\n",
       "      <td>39999.0</td>\n",
       "      <td>59999</td>\n",
       "      <td>1.0</td>\n",
       "      <td>windows 11 home 64</td>\n",
       "      <td>4.0</td>\n",
       "      <td>no data</td>\n",
       "      <td>no data</td>\n",
       "      <td>...</td>\n",
       "      <td>intel iris xe graphics</td>\n",
       "      <td>No data</td>\n",
       "      <td>No data</td>\n",
       "      <td>256.0</td>\n",
       "      <td>8.0</td>\n",
       "      <td>ddr4</td>\n",
       "      <td>1.0</td>\n",
       "      <td>plastic</td>\n",
       "      <td>5.0</td>\n",
       "      <td>No data</td>\n",
       "    </tr>\n",
       "    <tr>\n",
       "      <th>...</th>\n",
       "      <td>...</td>\n",
       "      <td>...</td>\n",
       "      <td>...</td>\n",
       "      <td>...</td>\n",
       "      <td>...</td>\n",
       "      <td>...</td>\n",
       "      <td>...</td>\n",
       "      <td>...</td>\n",
       "      <td>...</td>\n",
       "      <td>...</td>\n",
       "      <td>...</td>\n",
       "      <td>...</td>\n",
       "      <td>...</td>\n",
       "      <td>...</td>\n",
       "      <td>...</td>\n",
       "      <td>...</td>\n",
       "      <td>...</td>\n",
       "      <td>...</td>\n",
       "      <td>...</td>\n",
       "      <td>...</td>\n",
       "      <td>...</td>\n",
       "    </tr>\n",
       "    <tr>\n",
       "      <th>4425</th>\n",
       "      <td>WILDBERRIES</td>\n",
       "      <td>daurenovna</td>\n",
       "      <td>No data</td>\n",
       "      <td>37890.0</td>\n",
       "      <td>0</td>\n",
       "      <td>1.0</td>\n",
       "      <td>no data</td>\n",
       "      <td>2.0</td>\n",
       "      <td>no data</td>\n",
       "      <td>no data</td>\n",
       "      <td>...</td>\n",
       "      <td>no data</td>\n",
       "      <td>No data</td>\n",
       "      <td>60.0</td>\n",
       "      <td>No data</td>\n",
       "      <td>8.0</td>\n",
       "      <td>ddr4</td>\n",
       "      <td>1.0</td>\n",
       "      <td>No data</td>\n",
       "      <td>No data</td>\n",
       "      <td>No data</td>\n",
       "    </tr>\n",
       "    <tr>\n",
       "      <th>4426</th>\n",
       "      <td>WILDBERRIES</td>\n",
       "      <td>chuwi</td>\n",
       "      <td>No data</td>\n",
       "      <td>43200.0</td>\n",
       "      <td>0</td>\n",
       "      <td>1.0</td>\n",
       "      <td>windows</td>\n",
       "      <td>2.0</td>\n",
       "      <td>no data</td>\n",
       "      <td>no data</td>\n",
       "      <td>...</td>\n",
       "      <td>intel iris graphics 600</td>\n",
       "      <td>No data</td>\n",
       "      <td>60.0</td>\n",
       "      <td>512.0</td>\n",
       "      <td>8.0</td>\n",
       "      <td>ddr4</td>\n",
       "      <td>1.0</td>\n",
       "      <td>No data</td>\n",
       "      <td>No data</td>\n",
       "      <td>No data</td>\n",
       "    </tr>\n",
       "    <tr>\n",
       "      <th>4427</th>\n",
       "      <td>WILDBERRIES</td>\n",
       "      <td>ma&amp;er</td>\n",
       "      <td>No data</td>\n",
       "      <td>29999.0</td>\n",
       "      <td>0</td>\n",
       "      <td>1.0</td>\n",
       "      <td>windows</td>\n",
       "      <td>4.0</td>\n",
       "      <td>no data</td>\n",
       "      <td>no data</td>\n",
       "      <td>...</td>\n",
       "      <td>intel iris graphics 600</td>\n",
       "      <td>No data</td>\n",
       "      <td>60.0</td>\n",
       "      <td>512.0</td>\n",
       "      <td>8.0</td>\n",
       "      <td>ddr3</td>\n",
       "      <td>1.0</td>\n",
       "      <td>plastic</td>\n",
       "      <td>5.0</td>\n",
       "      <td>No data</td>\n",
       "    </tr>\n",
       "    <tr>\n",
       "      <th>4428</th>\n",
       "      <td>WILDBERRIES</td>\n",
       "      <td>a.o.s</td>\n",
       "      <td>No data</td>\n",
       "      <td>26500.0</td>\n",
       "      <td>0</td>\n",
       "      <td>1.0</td>\n",
       "      <td>windows</td>\n",
       "      <td>2.0</td>\n",
       "      <td>no data</td>\n",
       "      <td>no data</td>\n",
       "      <td>...</td>\n",
       "      <td>intel iris graphics 600</td>\n",
       "      <td>No data</td>\n",
       "      <td>60.0</td>\n",
       "      <td>128.0</td>\n",
       "      <td>4.0</td>\n",
       "      <td>lpddr4</td>\n",
       "      <td>1.0</td>\n",
       "      <td>plastic</td>\n",
       "      <td>No data</td>\n",
       "      <td>No data</td>\n",
       "    </tr>\n",
       "    <tr>\n",
       "      <th>4429</th>\n",
       "      <td>WILDBERRIES</td>\n",
       "      <td>irbis</td>\n",
       "      <td>No data</td>\n",
       "      <td>12500.0</td>\n",
       "      <td>0</td>\n",
       "      <td>1.0</td>\n",
       "      <td>windows</td>\n",
       "      <td>2.0</td>\n",
       "      <td>no data</td>\n",
       "      <td>no data</td>\n",
       "      <td>...</td>\n",
       "      <td>intel hd graphics 500</td>\n",
       "      <td>No data</td>\n",
       "      <td>60.0</td>\n",
       "      <td>No data</td>\n",
       "      <td>4.0</td>\n",
       "      <td>lpddr3</td>\n",
       "      <td>1.0</td>\n",
       "      <td>plastic</td>\n",
       "      <td>No data</td>\n",
       "      <td>No data</td>\n",
       "    </tr>\n",
       "  </tbody>\n",
       "</table>\n",
       "<p>4063 rows × 23 columns</p>\n",
       "</div>"
      ],
      "text/plain": [
       "      Marketplace        Brand         Series  PriceNow  PriceOriginal  \\\n",
       "0          Mvideo  thunderobot         GAMING   54999.0          69999   \n",
       "1          Mvideo       huawei  Matebook D 15   58999.0          62999   \n",
       "2          Mvideo       huawei     Matebook D   46999.0          56999   \n",
       "3          Mvideo        apple    MacBook Air   80999.0          99999   \n",
       "4          Mvideo       lenovo     V15 G2 ITL   39999.0          59999   \n",
       "...           ...          ...            ...       ...            ...   \n",
       "4425  WILDBERRIES   daurenovna        No data   37890.0              0   \n",
       "4426  WILDBERRIES        chuwi        No data   43200.0              0   \n",
       "4427  WILDBERRIES        ma&er        No data   29999.0              0   \n",
       "4428  WILDBERRIES        a.o.s        No data   26500.0              0   \n",
       "4429  WILDBERRIES        irbis        No data   12500.0              0   \n",
       "\n",
       "      Guarantee_year                  OS CoresNumber Processor ProcessorType  \\\n",
       "0                1.0               no os         6.0     intel       core i5   \n",
       "1                1.0     windows 11 home         6.0   no data       no data   \n",
       "2                1.0     windows 11 home         4.0   no data       no data   \n",
       "3                1.0               macos         8.0   no data       no data   \n",
       "4                1.0  windows 11 home 64         4.0   no data       no data   \n",
       "...              ...                 ...         ...       ...           ...   \n",
       "4425             1.0             no data         2.0   no data       no data   \n",
       "4426             1.0             windows         2.0   no data       no data   \n",
       "4427             1.0             windows         4.0   no data       no data   \n",
       "4428             1.0             windows         2.0   no data       no data   \n",
       "4429             1.0             windows         2.0   no data       no data   \n",
       "\n",
       "      ...            GpuController ScreenSize_inch ScreenFrequency_GHz  \\\n",
       "0     ...        geforce gtx 1650          No data                60.0   \n",
       "1     ...          radeon graphics         No data             No data   \n",
       "2     ...  intel iris graphics 600            14.0             No data   \n",
       "3     ...                  no data         No data             No data   \n",
       "4     ...   intel iris xe graphics         No data             No data   \n",
       "...   ...                      ...             ...                 ...   \n",
       "4425  ...                  no data         No data                60.0   \n",
       "4426  ...  intel iris graphics 600         No data                60.0   \n",
       "4427  ...  intel iris graphics 600         No data                60.0   \n",
       "4428  ...  intel iris graphics 600         No data                60.0   \n",
       "4429  ...    intel hd graphics 500         No data                60.0   \n",
       "\n",
       "     SSDSize_GGb RAM_GGb RAM_type     HDMI       Material Battery_hour  \\\n",
       "0          256.0     8.0     ddr4      1.0  plastic/metal          5.0   \n",
       "1          512.0    16.0     ddr4      1.0          metal          7.0   \n",
       "2          512.0     8.0     ddr4      1.0          metal      No data   \n",
       "3          256.0     8.0  no data  No data      aluminium         18.0   \n",
       "4          256.0     8.0     ddr4      1.0        plastic          5.0   \n",
       "...          ...     ...      ...      ...            ...          ...   \n",
       "4425     No data     8.0     ddr4      1.0        No data      No data   \n",
       "4426       512.0     8.0     ddr4      1.0        No data      No data   \n",
       "4427       512.0     8.0     ddr3      1.0        plastic          5.0   \n",
       "4428       128.0     4.0   lpddr4      1.0        plastic      No data   \n",
       "4429     No data     4.0   lpddr3      1.0        plastic      No data   \n",
       "\n",
       "     Weight_kg  \n",
       "0      No data  \n",
       "1      No data  \n",
       "2      No data  \n",
       "3      No data  \n",
       "4      No data  \n",
       "...        ...  \n",
       "4425   No data  \n",
       "4426   No data  \n",
       "4427   No data  \n",
       "4428   No data  \n",
       "4429   No data  \n",
       "\n",
       "[4063 rows x 23 columns]"
      ]
     },
     "execution_count": 9,
     "metadata": {},
     "output_type": "execute_result"
    }
   ],
   "source": [
    "df"
   ]
  },
  {
   "cell_type": "code",
   "execution_count": 10,
   "id": "4b9c550f-5ac6-43f9-b1e5-c3514eac0080",
   "metadata": {},
   "outputs": [
    {
     "name": "stdout",
     "output_type": "stream",
     "text": [
      "<class 'pandas.core.frame.DataFrame'>\n",
      "Int64Index: 4063 entries, 0 to 4429\n",
      "Data columns (total 23 columns):\n",
      " #   Column                  Non-Null Count  Dtype  \n",
      "---  ------                  --------------  -----  \n",
      " 0   Marketplace             4063 non-null   object \n",
      " 1   Brand                   4063 non-null   object \n",
      " 2   Series                  4063 non-null   object \n",
      " 3   PriceNow                4063 non-null   float64\n",
      " 4   PriceOriginal           4063 non-null   int64  \n",
      " 5   Guarantee_year          4062 non-null   float64\n",
      " 6   OS                      4063 non-null   object \n",
      " 7   CoresNumber             4063 non-null   object \n",
      " 8   Processor               4063 non-null   object \n",
      " 9   ProcessorType           4063 non-null   object \n",
      " 10  ProcessorModel          4063 non-null   object \n",
      " 11  ProcessorFrequency_GHz  4063 non-null   object \n",
      " 12  GpuManufacturer         4063 non-null   object \n",
      " 13  GpuController           4063 non-null   object \n",
      " 14  ScreenSize_inch         4063 non-null   object \n",
      " 15  ScreenFrequency_GHz     4063 non-null   object \n",
      " 16  SSDSize_GGb             4063 non-null   object \n",
      " 17  RAM_GGb                 4063 non-null   object \n",
      " 18  RAM_type                4063 non-null   object \n",
      " 19  HDMI                    4063 non-null   object \n",
      " 20  Material                4063 non-null   object \n",
      " 21  Battery_hour            4063 non-null   object \n",
      " 22  Weight_kg               4063 non-null   object \n",
      "dtypes: float64(2), int64(1), object(20)\n",
      "memory usage: 761.8+ KB\n"
     ]
    }
   ],
   "source": [
    "df.info()"
   ]
  },
  {
   "cell_type": "markdown",
   "id": "cb9bdd9b-8b95-48a4-9048-773545a6fd56",
   "metadata": {},
   "source": [
    "---"
   ]
  },
  {
   "cell_type": "markdown",
   "id": "77673bf8",
   "metadata": {},
   "source": [
    "Добавим разбиение товаров по ценам\n"
   ]
  },
  {
   "cell_type": "code",
   "execution_count": 11,
   "id": "3d7cb394",
   "metadata": {},
   "outputs": [],
   "source": [
    "tarif = ['cheap', 'middle', 'premium']\n",
    "df = df.sort_values(by='PriceNow')\n",
    "df['Price_Category'] = pd.qcut(df['PriceNow'], q=3, labels=tarif)"
   ]
  },
  {
   "cell_type": "markdown",
   "id": "f842b1a6",
   "metadata": {},
   "source": [
    "График распределения стоимости ноутбуков для каждой категории"
   ]
  },
  {
   "cell_type": "code",
   "execution_count": 12,
   "id": "dfe95ee6",
   "metadata": {},
   "outputs": [
    {
     "data": {
      "text/plain": [
       "<AxesSubplot:xlabel='PriceNow', ylabel='Price_Category'>"
      ]
     },
     "execution_count": 12,
     "metadata": {},
     "output_type": "execute_result"
    },
    {
     "data": {
      "image/png": "[encoded data removed]",
      "text/plain": [
       "<Figure size 864x432 with 1 Axes>"
      ]
     },
     "metadata": {
      "needs_background": "light"
     },
     "output_type": "display_data"
    }
   ],
   "source": [
    "fig = plt.figure(figsize=(12,6))\n",
    "\n",
    "sns.boxplot(x='PriceNow', y='Price_Category', data=df, palette='rainbow')"
   ]
  },
  {
   "cell_type": "markdown",
   "id": "d385fd16",
   "metadata": {},
   "source": [
    "#### Определение значений популярных характеристик в каждой ценовой категории:"
   ]
  },
  {
   "cell_type": "markdown",
   "id": "87684d0c",
   "metadata": {},
   "source": [
    "##### 1. Популярные производители ноутбуков"
   ]
  },
  {
   "cell_type": "code",
   "execution_count": 13,
   "id": "b305d3b3-b06b-46bf-93d7-403337d9e487",
   "metadata": {},
   "outputs": [
    {
     "data": {
      "image/png": "[encoded data removed]",
      "text/plain": [
       "<Figure size 864x288 with 1 Axes>"
      ]
     },
     "metadata": {
      "needs_background": "light"
     },
     "output_type": "display_data"
    }
   ],
   "source": [
    "brand_num = df['Brand'].nunique()\n",
    "\n",
    "data = df.groupby(['Brand'])['Marketplace'].count().nlargest(10)\n",
    "data.plot(\n",
    "    kind='bar',\n",
    "    figsize=(12, 4),\n",
    "    colormap='plasma'\n",
    ")\n",
    "plt.xticks(rotation=70)\n",
    "plt.tight_layout()\n"
   ]
  },
  {
   "cell_type": "markdown",
   "id": "f6979b80",
   "metadata": {},
   "source": [
    "Дешевые"
   ]
  },
  {
   "cell_type": "code",
   "execution_count": 14,
   "id": "e0a6e569",
   "metadata": {},
   "outputs": [
    {
     "data": {
      "image/png": "[encoded data removed]",
      "text/plain": [
       "<Figure size 864x288 with 1 Axes>"
      ]
     },
     "metadata": {
      "needs_background": "light"
     },
     "output_type": "display_data"
    }
   ],
   "source": [
    "data = df[df['Price_Category']=='cheap'].groupby(['Brand'])['Marketplace'].count().nlargest(10)\n",
    "data.plot(\n",
    "    kind='bar',\n",
    "    figsize=(12, 4),\n",
    "    colormap='plasma'\n",
    ")\n",
    "plt.xticks(rotation=70)\n",
    "plt.tight_layout()"
   ]
  },
  {
   "cell_type": "markdown",
   "id": "6a535406-aaf9-402d-915c-77038c67794f",
   "metadata": {},
   "source": [
    "---"
   ]
  },
  {
   "cell_type": "markdown",
   "id": "a48287d4",
   "metadata": {},
   "source": [
    "Cредняя цена"
   ]
  },
  {
   "cell_type": "code",
   "execution_count": 15,
   "id": "4250373d",
   "metadata": {},
   "outputs": [
    {
     "data": {
      "image/png": "[encoded data removed]",
      "text/plain": [
       "<Figure size 864x288 with 1 Axes>"
      ]
     },
     "metadata": {
      "needs_background": "light"
     },
     "output_type": "display_data"
    }
   ],
   "source": [
    "data = df[df['Price_Category']=='middle'].groupby(['Brand'])['Marketplace'].count().nlargest(10)\n",
    "data.plot(\n",
    "    kind='bar',\n",
    "    figsize=(12, 4),\n",
    "    colormap='plasma'\n",
    ")\n",
    "plt.xticks(rotation=70)\n",
    "plt.tight_layout()"
   ]
  },
  {
   "cell_type": "markdown",
   "id": "55c38e90",
   "metadata": {},
   "source": [
    "Премиум"
   ]
  },
  {
   "cell_type": "code",
   "execution_count": 16,
   "id": "1f9222e6",
   "metadata": {},
   "outputs": [
    {
     "data": {
      "image/png": "[encoded data removed]",
      "text/plain": [
       "<Figure size 864x288 with 1 Axes>"
      ]
     },
     "metadata": {
      "needs_background": "light"
     },
     "output_type": "display_data"
    }
   ],
   "source": [
    "data = df[df['Price_Category']=='premium'].groupby(['Brand'])['Marketplace'].count().nlargest(10)\n",
    "data.plot(\n",
    "    kind='bar',\n",
    "    figsize=(12, 4),\n",
    "    colormap='plasma'\n",
    ")\n",
    "plt.xticks(rotation=70)\n",
    "plt.tight_layout()"
   ]
  },
  {
   "cell_type": "markdown",
   "id": "686d9b87",
   "metadata": {},
   "source": [
    "Самыми популярными производителями ноутбуков являются:\n",
    "- lenovo\n",
    "- asus\n",
    "- hp\n",
    "\n",
    "Среди бюджетных\n",
    "- lenovo\n",
    "- asus\n",
    "- acer\n",
    "\n",
    "Среди средней ценовой категории\n",
    "- hp\n",
    "- asus\n",
    "- lenovo\n",
    "\n",
    "Среди премиум\n",
    "- lenovo\n",
    "- asus\n",
    "- msi"
   ]
  },
  {
   "cell_type": "markdown",
   "id": "c4ce9337",
   "metadata": {},
   "source": [
    "##### 2. Популярные процессоры и типы процессора"
   ]
  },
  {
   "cell_type": "markdown",
   "id": "a8151122",
   "metadata": {},
   "source": [
    "Все маркетплейсы"
   ]
  },
  {
   "cell_type": "code",
   "execution_count": 17,
   "id": "ebd03447",
   "metadata": {},
   "outputs": [
    {
     "data": {
      "image/png": "[encoded data removed]",
      "text/plain": [
       "<Figure size 864x288 with 1 Axes>"
      ]
     },
     "metadata": {
      "needs_background": "light"
     },
     "output_type": "display_data"
    }
   ],
   "source": [
    "tmp = df[df['Processor'] != 'no data']\n",
    "data = tmp.groupby(['Processor', 'ProcessorType'])['Marketplace'].count().nlargest(10)\n",
    "data = data.nlargest((30))\n",
    "data.plot(\n",
    "    kind='bar',\n",
    "    figsize=(12, 4),\n",
    "    colormap='plasma'\n",
    ")\n",
    "plt.xticks(rotation=70)\n",
    "plt.tight_layout()"
   ]
  },
  {
   "cell_type": "markdown",
   "id": "60fdb0a5",
   "metadata": {},
   "source": [
    "Дешевые"
   ]
  },
  {
   "cell_type": "code",
   "execution_count": 18,
   "id": "49da25cf",
   "metadata": {},
   "outputs": [
    {
     "data": {
      "image/png": "[encoded data removed]",
      "text/plain": [
       "<Figure size 864x288 with 1 Axes>"
      ]
     },
     "metadata": {
      "needs_background": "light"
     },
     "output_type": "display_data"
    }
   ],
   "source": [
    "tmp = df[df['Processor'] != 'no data']\n",
    "data = tmp[tmp['Price_Category']=='cheap'].groupby(['Processor', 'ProcessorType'])['Marketplace'].count().nlargest(5)\n",
    "data.plot(\n",
    "    kind='bar',\n",
    "    figsize=(12, 4),\n",
    "    colormap='plasma'\n",
    ")\n",
    "plt.xticks(rotation=70)\n",
    "plt.tight_layout()"
   ]
  },
  {
   "cell_type": "markdown",
   "id": "6e524bff",
   "metadata": {},
   "source": [
    "Средняя цена"
   ]
  },
  {
   "cell_type": "code",
   "execution_count": 19,
   "id": "148ddc1b",
   "metadata": {},
   "outputs": [
    {
     "data": {
      "image/png": "[encoded data removed]",
      "text/plain": [
       "<Figure size 864x288 with 1 Axes>"
      ]
     },
     "metadata": {
      "needs_background": "light"
     },
     "output_type": "display_data"
    }
   ],
   "source": [
    "tmp = df[df['Processor'] != 'no data']\n",
    "data = tmp[tmp['Price_Category']=='middle'].groupby(['Processor', 'ProcessorType'])['Marketplace'].count().nlargest(10)\n",
    "\n",
    "data.plot(\n",
    "    kind='bar',\n",
    "    figsize=(12, 4),\n",
    "    colormap='plasma'\n",
    ")\n",
    "plt.xticks(rotation=70)\n",
    "plt.tight_layout()"
   ]
  },
  {
   "cell_type": "markdown",
   "id": "3e1be089",
   "metadata": {},
   "source": [
    "премиум"
   ]
  },
  {
   "cell_type": "code",
   "execution_count": 20,
   "id": "0b7c6d0c",
   "metadata": {},
   "outputs": [
    {
     "data": {
      "image/png": "[encoded data removed]",
      "text/plain": [
       "<Figure size 864x288 with 1 Axes>"
      ]
     },
     "metadata": {
      "needs_background": "light"
     },
     "output_type": "display_data"
    }
   ],
   "source": [
    "tmp = df[df['Processor'] != 'no data']\n",
    "data = tmp[tmp['Price_Category']=='premium'].groupby(['Processor', 'ProcessorType'])['Marketplace'].count().nlargest(10)\n",
    "# print(data)\n",
    "data = data.nlargest((30))\n",
    "data.plot(\n",
    "    kind='bar',\n",
    "    figsize=(12, 4),\n",
    "    colormap='plasma'\n",
    ")\n",
    "plt.xticks(rotation=70)\n",
    "plt.tight_layout()"
   ]
  },
  {
   "cell_type": "markdown",
   "id": "947ab409",
   "metadata": {},
   "source": [
    "Самые популярные Процессоры:\n",
    "- intel      core i5 \n",
    "- intel      core i7      \n",
    "- intel      core i3   \n",
    "\n",
    "Среди бюджетных\n",
    "- intel      core i3 \n",
    "- intel      celeron        \n",
    "- intel      pentium  \n",
    "\n",
    "Среди средней ценовой категории\n",
    "- intel      core i5 \n",
    "- amd        ryzen 5   \n",
    "- intel      core i7  \n",
    "\n",
    "Среди премиум\n",
    "- intel     core i7\n",
    "- intel     core i5       \n",
    "- amd     ryzen 7  "
   ]
  },
  {
   "cell_type": "markdown",
   "id": "febd590f",
   "metadata": {},
   "source": [
    "##### 3. Популярные видеокарты"
   ]
  },
  {
   "cell_type": "code",
   "execution_count": 21,
   "id": "6fb9c353",
   "metadata": {},
   "outputs": [
    {
     "data": {
      "image/png": "[encoded data removed]",
      "text/plain": [
       "<Figure size 864x288 with 1 Axes>"
      ]
     },
     "metadata": {
      "needs_background": "light"
     },
     "output_type": "display_data"
    }
   ],
   "source": [
    "tmp = df[df['GpuManufacturer'] != 'no data']\n",
    "data = tmp.groupby(['GpuManufacturer', 'GpuController'])['Marketplace'].count().nlargest(5)\n",
    "\n",
    "data.plot(\n",
    "    kind='bar',\n",
    "    figsize=(12, 4),\n",
    "    colormap='plasma'\n",
    ")\n",
    "plt.xticks(rotation=70)\n",
    "plt.tight_layout()"
   ]
  },
  {
   "cell_type": "markdown",
   "id": "9acabc24",
   "metadata": {},
   "source": [
    "Дешевые"
   ]
  },
  {
   "cell_type": "code",
   "execution_count": 22,
   "id": "c0dd4e59",
   "metadata": {},
   "outputs": [
    {
     "data": {
      "image/png": "[encoded data removed]",
      "text/plain": [
       "<Figure size 864x288 with 1 Axes>"
      ]
     },
     "metadata": {
      "needs_background": "light"
     },
     "output_type": "display_data"
    }
   ],
   "source": [
    "tmp = df[df['GpuController'] != 'no data']\n",
    "data = tmp[tmp['Price_Category']=='cheap'].groupby(['GpuController'])['Marketplace'].count().nlargest(5)\n",
    "data.plot(\n",
    "    kind='bar',\n",
    "    figsize=(12, 4),\n",
    "    colormap='plasma'\n",
    ")\n",
    "plt.xticks(rotation=70)\n",
    "plt.tight_layout()\n"
   ]
  },
  {
   "cell_type": "markdown",
   "id": "6cc89cbe",
   "metadata": {},
   "source": [
    "средняя цена"
   ]
  },
  {
   "cell_type": "code",
   "execution_count": 23,
   "id": "39ccc962",
   "metadata": {},
   "outputs": [
    {
     "data": {
      "image/png": "[encoded data removed]",
      "text/plain": [
       "<Figure size 864x288 with 1 Axes>"
      ]
     },
     "metadata": {
      "needs_background": "light"
     },
     "output_type": "display_data"
    }
   ],
   "source": [
    "tmp = df[df['GpuController'] != 'no data']\n",
    "data = tmp[tmp['Price_Category']=='middle'].groupby(['GpuController'])['Marketplace'].count().nlargest(5)\n",
    "\n",
    "data.plot(\n",
    "    kind='bar',\n",
    "    figsize=(12, 4),\n",
    "    colormap='plasma'\n",
    ")\n",
    "plt.xticks(rotation=70)\n",
    "plt.tight_layout()"
   ]
  },
  {
   "cell_type": "markdown",
   "id": "be6eb144",
   "metadata": {},
   "source": [
    "премиус"
   ]
  },
  {
   "cell_type": "code",
   "execution_count": 24,
   "id": "dd62db25",
   "metadata": {},
   "outputs": [
    {
     "data": {
      "image/png": "[encoded data removed]",
      "text/plain": [
       "<Figure size 864x288 with 1 Axes>"
      ]
     },
     "metadata": {
      "needs_background": "light"
     },
     "output_type": "display_data"
    }
   ],
   "source": [
    "tmp = df[df['GpuController'] != 'no data']\n",
    "data = tmp[tmp['Price_Category']=='premium'].groupby(['GpuManufacturer', 'GpuController'])['Marketplace'].count().nlargest(5)\n",
    "\n",
    "data.plot(\n",
    "    kind='bar',\n",
    "    figsize=(12, 4),\n",
    "    colormap='plasma'\n",
    ")\n",
    "plt.xticks(rotation=70)\n",
    "plt.tight_layout()\n"
   ]
  },
  {
   "cell_type": "markdown",
   "id": "6b5bd85b",
   "metadata": {},
   "source": [
    "Самые популярные Видеокарты:\n",
    "- intel uhd graphics         \n",
    "- intel iris xe graphics      \n",
    "- amd radeon graphics  \n",
    "\n",
    "Среди бюджетных\n",
    "- uhd graphics          \n",
    "- radeon graphics       \n",
    "- intel uhd graphics \n",
    "\n",
    "Среди средней ценовой категории\n",
    "- iris xe graphics          \n",
    "- uhd graphics              \n",
    "- radeon graphics\n",
    " \n",
    "\n",
    "Среди премиум\n",
    "- intel            iris xe graphics    \n",
    "- nvidia           geforce rtx 3060      \n",
    "- nvidia           geforce rtx 3050 "
   ]
  },
  {
   "cell_type": "markdown",
   "id": "3d366d6e",
   "metadata": {},
   "source": [
    "##### 4. Популярные значения размеров (и/или размеров и частоты) экрана"
   ]
  },
  {
   "cell_type": "code",
   "execution_count": 25,
   "id": "5a5a0ec0-fcfd-4ad0-a476-6c4f73b4a2a3",
   "metadata": {},
   "outputs": [
    {
     "data": {
      "image/png": "[encoded data removed]",
      "text/plain": [
       "<Figure size 864x288 with 1 Axes>"
      ]
     },
     "metadata": {
      "needs_background": "light"
     },
     "output_type": "display_data"
    }
   ],
   "source": [
    "tmp = df[df['ScreenSize_inch'] != 'No data']\n",
    "data = tmp.groupby(['ScreenSize_inch'])['Marketplace'].count().nlargest(5)\n",
    "data = data.nlargest((30))\n",
    "data.plot(\n",
    "    kind='bar',\n",
    "    figsize=(12, 4),\n",
    "    colormap='plasma'\n",
    ")\n",
    "plt.xticks(rotation=70)\n",
    "plt.tight_layout()"
   ]
  },
  {
   "cell_type": "markdown",
   "id": "d78f852a",
   "metadata": {},
   "source": [
    "дешевые"
   ]
  },
  {
   "cell_type": "code",
   "execution_count": 26,
   "id": "b3816181",
   "metadata": {},
   "outputs": [
    {
     "data": {
      "image/png": "[encoded data removed]",
      "text/plain": [
       "<Figure size 864x288 with 1 Axes>"
      ]
     },
     "metadata": {
      "needs_background": "light"
     },
     "output_type": "display_data"
    }
   ],
   "source": [
    "tmp = df[df['ScreenSize_inch'] != 'No data']\n",
    "data = tmp[tmp['Price_Category']=='cheap'].groupby(['ScreenSize_inch'])['Marketplace'].count().nlargest(5)\n",
    "data = data.nlargest((30))\n",
    "data.plot(\n",
    "    kind='bar',\n",
    "    figsize=(12, 4),\n",
    "    colormap='plasma'\n",
    ")\n",
    "plt.xticks(rotation=70)\n",
    "plt.tight_layout()"
   ]
  },
  {
   "cell_type": "markdown",
   "id": "3f29fe3a",
   "metadata": {},
   "source": [
    "средняя цена"
   ]
  },
  {
   "cell_type": "code",
   "execution_count": 27,
   "id": "c7c98d85",
   "metadata": {},
   "outputs": [
    {
     "data": {
      "image/png": "[encoded data removed]",
      "text/plain": [
       "<Figure size 864x288 with 1 Axes>"
      ]
     },
     "metadata": {
      "needs_background": "light"
     },
     "output_type": "display_data"
    }
   ],
   "source": [
    "tmp = df[df['ScreenSize_inch'] != 'No data']\n",
    "data = tmp[tmp['Price_Category']=='middle'].groupby(['ScreenSize_inch'])['Marketplace'].count().nlargest(5)\n",
    "data = data.nlargest((30))\n",
    "data.plot(\n",
    "    kind='bar',\n",
    "    figsize=(12, 4),\n",
    "    colormap='plasma'\n",
    ")\n",
    "plt.xticks(rotation=70)\n",
    "plt.tight_layout()"
   ]
  },
  {
   "cell_type": "markdown",
   "id": "90fb8b99",
   "metadata": {},
   "source": [
    "премиум"
   ]
  },
  {
   "cell_type": "code",
   "execution_count": 28,
   "id": "f2f6d8fc",
   "metadata": {},
   "outputs": [
    {
     "data": {
      "image/png": "[encoded data removed]",
      "text/plain": [
       "<Figure size 864x288 with 1 Axes>"
      ]
     },
     "metadata": {
      "needs_background": "light"
     },
     "output_type": "display_data"
    }
   ],
   "source": [
    "tmp = df[df['ScreenSize_inch'] != 'No data']\n",
    "data = tmp[tmp['Price_Category']=='premium'].groupby(['ScreenSize_inch'])['Marketplace'].count().nlargest(5)\n",
    "data = data.nlargest((30))\n",
    "data.plot(\n",
    "    kind='bar',\n",
    "    figsize=(12, 4),\n",
    "    colormap='plasma'\n",
    ")\n",
    "plt.xticks(rotation=70)\n",
    "plt.tight_layout()\n"
   ]
  },
  {
   "cell_type": "markdown",
   "id": "5a391a1c",
   "metadata": {},
   "source": [
    "Самым популярным экраном вов всех категориях является\n",
    "- 14 дюйм и 16 дюйм"
   ]
  },
  {
   "cell_type": "markdown",
   "id": "4331baee",
   "metadata": {},
   "source": [
    "##### 5. Популярные значения объема жесткого диска"
   ]
  },
  {
   "cell_type": "code",
   "execution_count": 29,
   "id": "b05ea6f2",
   "metadata": {},
   "outputs": [
    {
     "data": {
      "image/png": "[encoded data removed]",
      "text/plain": [
       "<Figure size 864x288 with 1 Axes>"
      ]
     },
     "metadata": {
      "needs_background": "light"
     },
     "output_type": "display_data"
    }
   ],
   "source": [
    "tmp = df[df['SSDSize_GGb'] != 'No data']\n",
    "data = tmp.groupby(['SSDSize_GGb'])['Marketplace'].count().nlargest(5)\n",
    "data = data.nlargest((30))\n",
    "data.plot(\n",
    "    kind='bar',\n",
    "    figsize=(12, 4),\n",
    "    colormap='plasma'\n",
    ")\n",
    "plt.xticks(rotation=70)\n",
    "plt.tight_layout()"
   ]
  },
  {
   "cell_type": "markdown",
   "id": "b227b0c1",
   "metadata": {},
   "source": [
    "дешевые"
   ]
  },
  {
   "cell_type": "code",
   "execution_count": 30,
   "id": "118edd00",
   "metadata": {},
   "outputs": [
    {
     "data": {
      "image/png": "[encoded data removed]",
      "text/plain": [
       "<Figure size 864x288 with 1 Axes>"
      ]
     },
     "metadata": {
      "needs_background": "light"
     },
     "output_type": "display_data"
    }
   ],
   "source": [
    "tmp = df[df['SSDSize_GGb'] != 'No data']\n",
    "data = tmp[tmp['Price_Category']=='cheap'].groupby(['SSDSize_GGb'])['Marketplace'].count().nlargest(5)\n",
    "data = data.nlargest((30))\n",
    "data.plot(\n",
    "    kind='bar',\n",
    "    figsize=(12, 4),\n",
    "    colormap='plasma'\n",
    ")\n",
    "plt.xticks(rotation=70)\n",
    "plt.tight_layout()"
   ]
  },
  {
   "cell_type": "markdown",
   "id": "6227e9c7",
   "metadata": {},
   "source": [
    "средняя цена"
   ]
  },
  {
   "cell_type": "code",
   "execution_count": 31,
   "id": "0507a653",
   "metadata": {},
   "outputs": [
    {
     "data": {
      "image/png": "[encoded data removed]",
      "text/plain": [
       "<Figure size 864x288 with 1 Axes>"
      ]
     },
     "metadata": {
      "needs_background": "light"
     },
     "output_type": "display_data"
    }
   ],
   "source": [
    "tmp = df[df['SSDSize_GGb'] != 'No data']\n",
    "data = tmp[tmp['Price_Category']=='middle'].groupby(['SSDSize_GGb'])['Marketplace'].count().nlargest(5)\n",
    "data = data.nlargest((30))\n",
    "data.plot(\n",
    "    kind='bar',\n",
    "    figsize=(12, 4),\n",
    "    colormap='plasma'\n",
    ")\n",
    "plt.xticks(rotation=70)\n",
    "plt.tight_layout()"
   ]
  },
  {
   "cell_type": "markdown",
   "id": "d079ae25",
   "metadata": {},
   "source": [
    "премиум"
   ]
  },
  {
   "cell_type": "code",
   "execution_count": 32,
   "id": "a98df4db",
   "metadata": {},
   "outputs": [
    {
     "data": {
      "image/png": "[encoded data removed]",
      "text/plain": [
       "<Figure size 864x288 with 1 Axes>"
      ]
     },
     "metadata": {
      "needs_background": "light"
     },
     "output_type": "display_data"
    }
   ],
   "source": [
    "tmp = df[df['SSDSize_GGb'] != 'No data']\n",
    "data = tmp[tmp['Price_Category']=='premium'].groupby(['SSDSize_GGb'])['Marketplace'].count().nlargest(5)\n",
    "data = data.nlargest((30))\n",
    "data.plot(\n",
    "    kind='bar',\n",
    "    figsize=(12, 4),\n",
    "    colormap='plasma'\n",
    ")\n",
    "plt.xticks(rotation=70)\n",
    "plt.tight_layout()"
   ]
  },
  {
   "cell_type": "markdown",
   "id": "591ced79",
   "metadata": {},
   "source": [
    "Самое популярное значение объема SSD:\n",
    "- 512\n",
    "\n",
    "Среди дешевых\n",
    "- 256\n",
    "\n",
    "Среди средней цены\n",
    "- 512\n",
    "\n",
    "Среди премиум\n",
    "- 512"
   ]
  },
  {
   "cell_type": "markdown",
   "id": "6c08ca41",
   "metadata": {},
   "source": [
    "##### 6. Популярные значения размера и типа оперативной памяти"
   ]
  },
  {
   "cell_type": "code",
   "execution_count": 33,
   "id": "52f62a69",
   "metadata": {},
   "outputs": [
    {
     "data": {
      "image/png": "[encoded data removed]",
      "text/plain": [
       "<Figure size 864x288 with 1 Axes>"
      ]
     },
     "metadata": {
      "needs_background": "light"
     },
     "output_type": "display_data"
    }
   ],
   "source": [
    "tmp = df[df['RAM_type'] != 'no data']\n",
    "data = tmp.groupby(['RAM_type','RAM_GGb' ])['Marketplace'].count().nlargest(5)\n",
    "data = data.nlargest((30))\n",
    "data.plot(\n",
    "    kind='bar',\n",
    "    figsize=(12, 4),\n",
    "    colormap='plasma'\n",
    ")\n",
    "plt.xticks(rotation=70)\n",
    "plt.tight_layout()"
   ]
  },
  {
   "cell_type": "markdown",
   "id": "1f6aad6d",
   "metadata": {},
   "source": [
    "дешевые"
   ]
  },
  {
   "cell_type": "code",
   "execution_count": 34,
   "id": "93eef22a",
   "metadata": {},
   "outputs": [
    {
     "data": {
      "image/png": "[encoded data removed]",
      "text/plain": [
       "<Figure size 864x288 with 1 Axes>"
      ]
     },
     "metadata": {
      "needs_background": "light"
     },
     "output_type": "display_data"
    }
   ],
   "source": [
    "tmp = df[df['RAM_type'] != 'no data']\n",
    "data = tmp[tmp['Price_Category']=='cheap'].groupby(['RAM_type','RAM_GGb' ])['Marketplace'].count().nlargest(5)\n",
    "data = data.nlargest((30))\n",
    "data.plot(\n",
    "    kind='bar',\n",
    "    figsize=(12, 4),\n",
    "    colormap='plasma'\n",
    ")\n",
    "plt.xticks(rotation=70)\n",
    "plt.tight_layout()"
   ]
  },
  {
   "cell_type": "markdown",
   "id": "d8e8e62c",
   "metadata": {},
   "source": [
    "средняя цена"
   ]
  },
  {
   "cell_type": "code",
   "execution_count": 35,
   "id": "14c2fe1a",
   "metadata": {},
   "outputs": [
    {
     "data": {
      "image/png": "[encoded data removed]",
      "text/plain": [
       "<Figure size 864x288 with 1 Axes>"
      ]
     },
     "metadata": {
      "needs_background": "light"
     },
     "output_type": "display_data"
    }
   ],
   "source": [
    "tmp = df[df['RAM_type'] != 'no data']\n",
    "data = tmp[tmp['Price_Category']=='middle'].groupby(['RAM_type','RAM_GGb' ])['Marketplace'].count().nlargest(5)\n",
    "data = data.nlargest((30))\n",
    "data.plot(\n",
    "    kind='bar',\n",
    "    figsize=(12, 4),\n",
    "    colormap='plasma'\n",
    ")\n",
    "plt.xticks(rotation=70)\n",
    "plt.tight_layout()"
   ]
  },
  {
   "cell_type": "markdown",
   "id": "2d644e3b",
   "metadata": {},
   "source": [
    "приемиум"
   ]
  },
  {
   "cell_type": "code",
   "execution_count": 36,
   "id": "89dde9fb",
   "metadata": {},
   "outputs": [
    {
     "data": {
      "image/png": "[encoded data removed]",
      "text/plain": [
       "<Figure size 864x288 with 1 Axes>"
      ]
     },
     "metadata": {
      "needs_background": "light"
     },
     "output_type": "display_data"
    }
   ],
   "source": [
    "tmp = df[df['RAM_type'] != 'no data']\n",
    "data = tmp[tmp['Price_Category']=='premium'].groupby(['RAM_type','RAM_GGb' ])['Marketplace'].count().nlargest(5)\n",
    "data = data.nlargest((30))\n",
    "data.plot(\n",
    "    kind='bar',\n",
    "    figsize=(12, 4),\n",
    "    colormap='plasma'\n",
    ")\n",
    "plt.xticks(rotation=70)\n",
    "plt.tight_layout()"
   ]
  },
  {
   "cell_type": "markdown",
   "id": "0ba3998a",
   "metadata": {},
   "source": [
    "Самое популярное значение RAM:\n",
    "- DDR 8 Gb\n",
    "\n",
    "Среди дешевых\n",
    "- DDR 8 Gb\n",
    "\n",
    "Среди средней цены\n",
    "- DDR 8 Gb\n",
    "\n",
    "Среди премиум\n",
    "- DDR 16 Gb"
   ]
  },
  {
   "cell_type": "markdown",
   "id": "139008fe",
   "metadata": {},
   "source": [
    "##### 7. Популярные значения дополнительных параметров - материал"
   ]
  },
  {
   "cell_type": "code",
   "execution_count": 37,
   "id": "2dcc0ea3",
   "metadata": {},
   "outputs": [
    {
     "data": {
      "image/png": "[encoded data removed]",
      "text/plain": [
       "<Figure size 864x288 with 1 Axes>"
      ]
     },
     "metadata": {
      "needs_background": "light"
     },
     "output_type": "display_data"
    }
   ],
   "source": [
    "tmp = df[df['Material'] != 'No data']\n",
    "data = tmp.groupby(['Material'])['Marketplace'].count().nlargest(5)\n",
    "data = data.nlargest((30))\n",
    "data.plot(\n",
    "    kind='bar',\n",
    "    figsize=(12, 4),\n",
    "    colormap='plasma'\n",
    ")\n",
    "plt.xticks(rotation=70)\n",
    "plt.tight_layout()"
   ]
  },
  {
   "cell_type": "markdown",
   "id": "97528822",
   "metadata": {},
   "source": [
    "дешевые"
   ]
  },
  {
   "cell_type": "code",
   "execution_count": 38,
   "id": "11168b75",
   "metadata": {},
   "outputs": [
    {
     "data": {
      "image/png": "[encoded data removed]",
      "text/plain": [
       "<Figure size 864x288 with 1 Axes>"
      ]
     },
     "metadata": {
      "needs_background": "light"
     },
     "output_type": "display_data"
    }
   ],
   "source": [
    "tmp = df[df['Material'] != 'No data']\n",
    "data = tmp[tmp['Price_Category']=='cheap'].groupby(['Material'])['Marketplace'].count().nlargest(5)\n",
    "data = data.nlargest((30))\n",
    "data.plot(\n",
    "    kind='bar',\n",
    "    figsize=(12, 4),\n",
    "    colormap='plasma'\n",
    ")\n",
    "plt.xticks(rotation=70)\n",
    "plt.tight_layout()\n"
   ]
  },
  {
   "cell_type": "markdown",
   "id": "394c936e",
   "metadata": {},
   "source": [
    "средняя цена"
   ]
  },
  {
   "cell_type": "code",
   "execution_count": 39,
   "id": "0a428370",
   "metadata": {},
   "outputs": [
    {
     "data": {
      "image/png": "[encoded data removed]",
      "text/plain": [
       "<Figure size 864x288 with 1 Axes>"
      ]
     },
     "metadata": {
      "needs_background": "light"
     },
     "output_type": "display_data"
    }
   ],
   "source": [
    "tmp = df[df['Material'] != 'No data']\n",
    "data = tmp[tmp['Price_Category']=='premium'].groupby(['Material'])['Marketplace'].count().nlargest(5)\n",
    "data = data.nlargest((30))\n",
    "data.plot(\n",
    "    kind='bar',\n",
    "    figsize=(12, 4),\n",
    "    colormap='plasma'\n",
    ")\n",
    "plt.xticks(rotation=70)\n",
    "plt.tight_layout()"
   ]
  },
  {
   "cell_type": "markdown",
   "id": "c9ce4268",
   "metadata": {},
   "source": [
    "премиум"
   ]
  },
  {
   "cell_type": "code",
   "execution_count": 40,
   "id": "a67a863b",
   "metadata": {},
   "outputs": [
    {
     "data": {
      "image/png": "[encoded data removed]",
      "text/plain": [
       "<Figure size 864x288 with 1 Axes>"
      ]
     },
     "metadata": {
      "needs_background": "light"
     },
     "output_type": "display_data"
    }
   ],
   "source": [
    "tmp = df[df['Material'] != 'No data']\n",
    "data = tmp[tmp['Price_Category']=='premium'].groupby(['Material'])['Marketplace'].count().nlargest(5)\n",
    "data = data.nlargest((30))\n",
    "data.plot(\n",
    "    kind='bar',\n",
    "    figsize=(12, 4),\n",
    "    colormap='plasma'\n",
    ")\n",
    "plt.xticks(rotation=70)\n",
    "plt.tight_layout()\n"
   ]
  },
  {
   "cell_type": "markdown",
   "id": "98f699d3",
   "metadata": {},
   "source": [
    "Самый популярный материал вов всех категориях - пластик"
   ]
  },
  {
   "cell_type": "markdown",
   "id": "f8a07dbe",
   "metadata": {},
   "source": [
    "##### 8. Популярные значения дополнительных параметров – работа от батареи"
   ]
  },
  {
   "cell_type": "code",
   "execution_count": 41,
   "id": "26b34ec0",
   "metadata": {},
   "outputs": [
    {
     "data": {
      "image/png": "[encoded data removed]",
      "text/plain": [
       "<Figure size 864x288 with 1 Axes>"
      ]
     },
     "metadata": {
      "needs_background": "light"
     },
     "output_type": "display_data"
    }
   ],
   "source": [
    "tmp = df[df['Battery_hour'] != 'No data']\n",
    "data = tmp.groupby(['Battery_hour'])['Marketplace'].count().nlargest(5)\n",
    "data = data.nlargest((30))\n",
    "data.plot(\n",
    "    kind='bar',\n",
    "    figsize=(12, 4),\n",
    "    colormap='plasma'\n",
    ")\n",
    "plt.xticks(rotation=70)\n",
    "plt.tight_layout()"
   ]
  },
  {
   "cell_type": "markdown",
   "id": "1ec28eb9",
   "metadata": {},
   "source": [
    "дешевые"
   ]
  },
  {
   "cell_type": "code",
   "execution_count": 42,
   "id": "c7760095",
   "metadata": {},
   "outputs": [
    {
     "data": {
      "image/png": "[encoded data removed]",
      "text/plain": [
       "<Figure size 864x288 with 1 Axes>"
      ]
     },
     "metadata": {
      "needs_background": "light"
     },
     "output_type": "display_data"
    }
   ],
   "source": [
    "tmp = df[df['Battery_hour'] != 'No data']\n",
    "data = tmp[tmp['Price_Category']=='cheap'].groupby(['Battery_hour' ])['Marketplace'].count().nlargest(5)\n",
    "data = data.nlargest((30))\n",
    "data.plot(\n",
    "    kind='bar',\n",
    "    figsize=(12, 4),\n",
    "    colormap='plasma'\n",
    ")\n",
    "plt.xticks(rotation=70)\n",
    "plt.tight_layout()"
   ]
  },
  {
   "cell_type": "markdown",
   "id": "b8df621f",
   "metadata": {},
   "source": [
    "средняя цена"
   ]
  },
  {
   "cell_type": "code",
   "execution_count": 43,
   "id": "55b67e07",
   "metadata": {},
   "outputs": [
    {
     "data": {
      "image/png": "[encoded data removed]",
      "text/plain": [
       "<Figure size 864x288 with 1 Axes>"
      ]
     },
     "metadata": {
      "needs_background": "light"
     },
     "output_type": "display_data"
    }
   ],
   "source": [
    "tmp = df[df['Battery_hour'] != 'No data']\n",
    "data = tmp[tmp['Price_Category']=='middle'].groupby(['Battery_hour' ])['Marketplace'].count().nlargest(5)\n",
    "data = data.nlargest((30))\n",
    "data.plot(\n",
    "    kind='bar',\n",
    "    figsize=(12, 4),\n",
    "    colormap='plasma'\n",
    ")\n",
    "plt.xticks(rotation=70)\n",
    "plt.tight_layout()"
   ]
  },
  {
   "cell_type": "markdown",
   "id": "408372d5",
   "metadata": {},
   "source": [
    "премиум"
   ]
  },
  {
   "cell_type": "code",
   "execution_count": 44,
   "id": "d814624c",
   "metadata": {},
   "outputs": [
    {
     "data": {
      "image/png": "[encoded data removed]",
      "text/plain": [
       "<Figure size 864x288 with 1 Axes>"
      ]
     },
     "metadata": {
      "needs_background": "light"
     },
     "output_type": "display_data"
    }
   ],
   "source": [
    "tmp = df[df['Battery_hour'] != 'No data']\n",
    "data = tmp[tmp['Price_Category']=='premium'].groupby(['Battery_hour' ])['Marketplace'].count().nlargest(5)\n",
    "data = data.nlargest((30))\n",
    "data.plot(\n",
    "    kind='bar',\n",
    "    figsize=(12, 4),\n",
    "    colormap='plasma'\n",
    ")\n",
    "plt.xticks(rotation=70)\n",
    "plt.tight_layout()"
   ]
  },
  {
   "cell_type": "markdown",
   "id": "4c5abf92",
   "metadata": {},
   "source": [
    "Cамое популярное значение работы от батарее (среди, имеющихся данных) во всех категориях - 6 часов"
   ]
  },
  {
   "cell_type": "markdown",
   "id": "6cd46f44",
   "metadata": {},
   "source": [
    "##### 9. Популярные значения OS"
   ]
  },
  {
   "cell_type": "code",
   "execution_count": 45,
   "id": "f569852b",
   "metadata": {},
   "outputs": [
    {
     "data": {
      "image/png": "[encoded data removed]",
      "text/plain": [
       "<Figure size 864x288 with 1 Axes>"
      ]
     },
     "metadata": {
      "needs_background": "light"
     },
     "output_type": "display_data"
    }
   ],
   "source": [
    "tmp = df[df['OS'] != 'no data']\n",
    "data = tmp.groupby(['OS'])['Marketplace'].count().nlargest(5)\n",
    "data = data.nlargest((30))\n",
    "data.plot(\n",
    "    kind='bar',\n",
    "    figsize=(12, 4),\n",
    "    colormap='plasma'\n",
    ")\n",
    "plt.xticks(rotation=70)\n",
    "plt.tight_layout()"
   ]
  },
  {
   "cell_type": "markdown",
   "id": "603c985e",
   "metadata": {},
   "source": [
    "дешевые"
   ]
  },
  {
   "cell_type": "code",
   "execution_count": 46,
   "id": "6e5b3e20",
   "metadata": {},
   "outputs": [
    {
     "data": {
      "image/png": "[encoded data removed]",
      "text/plain": [
       "<Figure size 864x288 with 1 Axes>"
      ]
     },
     "metadata": {
      "needs_background": "light"
     },
     "output_type": "display_data"
    }
   ],
   "source": [
    "tmp = df[df['OS'] != 'no data']\n",
    "data = tmp[tmp['Price_Category']=='cheap'].groupby(['OS'])['Marketplace'].count().nlargest(5)\n",
    "data = data.nlargest((30))\n",
    "data.plot(\n",
    "    kind='bar',\n",
    "    figsize=(12, 4),\n",
    "    colormap='plasma'\n",
    ")\n",
    "plt.xticks(rotation=70)\n",
    "plt.tight_layout()"
   ]
  },
  {
   "cell_type": "markdown",
   "id": "22ecd060",
   "metadata": {},
   "source": [
    "средняя цена"
   ]
  },
  {
   "cell_type": "code",
   "execution_count": 47,
   "id": "9f2e73bf",
   "metadata": {},
   "outputs": [
    {
     "data": {
      "image/png": "[encoded data removed]",
      "text/plain": [
       "<Figure size 864x288 with 1 Axes>"
      ]
     },
     "metadata": {
      "needs_background": "light"
     },
     "output_type": "display_data"
    }
   ],
   "source": [
    "tmp = df[df['OS'] != 'no data']\n",
    "data = tmp[tmp['Price_Category']=='middle'].groupby(['OS'])['Marketplace'].count().nlargest(5)\n",
    "data = data.nlargest((30))\n",
    "data.plot(\n",
    "    kind='bar',\n",
    "    figsize=(12, 4),\n",
    "    colormap='plasma'\n",
    ")\n",
    "plt.xticks(rotation=70)\n",
    "plt.tight_layout()"
   ]
  },
  {
   "cell_type": "markdown",
   "id": "fe121a4e",
   "metadata": {},
   "source": [
    "премиум"
   ]
  },
  {
   "cell_type": "code",
   "execution_count": 48,
   "id": "b4030db6",
   "metadata": {},
   "outputs": [
    {
     "data": {
      "image/png": "[encoded data removed]",
      "text/plain": [
       "<Figure size 864x288 with 1 Axes>"
      ]
     },
     "metadata": {
      "needs_background": "light"
     },
     "output_type": "display_data"
    }
   ],
   "source": [
    "tmp = df[df['OS'] != 'no data']\n",
    "data = tmp[tmp['Price_Category']=='premium'].groupby(['OS'])['Marketplace'].count().nlargest(5)\n",
    "data = data.nlargest((30))\n",
    "data.plot(\n",
    "    kind='bar',\n",
    "    figsize=(12, 4),\n",
    "    colormap='plasma'\n",
    ")\n",
    "plt.xticks(rotation=70)\n",
    "plt.tight_layout()"
   ]
  },
  {
   "cell_type": "markdown",
   "id": "894326de",
   "metadata": {},
   "source": [
    "Среди всех категорий ноутбуков самые популярные с установленной windows"
   ]
  },
  {
   "cell_type": "markdown",
   "id": "b74ff1eb",
   "metadata": {},
   "source": [
    "##### Средняя стоимость ноутбука для каждого маркетплейса каждой ценовой категории"
   ]
  },
  {
   "cell_type": "code",
   "execution_count": 49,
   "id": "3493409e",
   "metadata": {},
   "outputs": [
    {
     "data": {
      "text/plain": [
       "<AxesSubplot:xlabel='PriceNow', ylabel='Marketplace'>"
      ]
     },
     "execution_count": 49,
     "metadata": {},
     "output_type": "execute_result"
    },
    {
     "data": {
      "image/png": "[encoded data removed]",
      "text/plain": [
       "<Figure size 864x432 with 1 Axes>"
      ]
     },
     "metadata": {
      "needs_background": "light"
     },
     "output_type": "display_data"
    }
   ],
   "source": [
    "fig = plt.figure(figsize=(12,6))\n",
    "\n",
    "sns.boxplot(x='PriceNow', y='Marketplace', data=df, palette='rainbow')"
   ]
  },
  {
   "cell_type": "markdown",
   "id": "2a201fb3",
   "metadata": {},
   "source": [
    "##### Дешевые"
   ]
  },
  {
   "cell_type": "code",
   "execution_count": 50,
   "id": "32db0792",
   "metadata": {},
   "outputs": [
    {
     "data": {
      "text/html": [
       "<div>\n",
       "<style scoped>\n",
       "    .dataframe tbody tr th:only-of-type {\n",
       "        vertical-align: middle;\n",
       "    }\n",
       "\n",
       "    .dataframe tbody tr th {\n",
       "        vertical-align: top;\n",
       "    }\n",
       "\n",
       "    .dataframe thead th {\n",
       "        text-align: right;\n",
       "    }\n",
       "</style>\n",
       "<table border=\"1\" class=\"dataframe\">\n",
       "  <thead>\n",
       "    <tr style=\"text-align: right;\">\n",
       "      <th></th>\n",
       "      <th>count</th>\n",
       "      <th>mean</th>\n",
       "      <th>std</th>\n",
       "      <th>min</th>\n",
       "      <th>25%</th>\n",
       "      <th>50%</th>\n",
       "      <th>75%</th>\n",
       "      <th>max</th>\n",
       "    </tr>\n",
       "    <tr>\n",
       "      <th>Marketplace</th>\n",
       "      <th></th>\n",
       "      <th></th>\n",
       "      <th></th>\n",
       "      <th></th>\n",
       "      <th></th>\n",
       "      <th></th>\n",
       "      <th></th>\n",
       "      <th></th>\n",
       "    </tr>\n",
       "  </thead>\n",
       "  <tbody>\n",
       "    <tr>\n",
       "      <th>DNS</th>\n",
       "      <td>44.0</td>\n",
       "      <td>38025.136364</td>\n",
       "      <td>7207.687181</td>\n",
       "      <td>25199.0</td>\n",
       "      <td>32024.0</td>\n",
       "      <td>38899.0</td>\n",
       "      <td>44999.0</td>\n",
       "      <td>50099.0</td>\n",
       "    </tr>\n",
       "    <tr>\n",
       "      <th>Mvideo</th>\n",
       "      <td>197.0</td>\n",
       "      <td>33937.177665</td>\n",
       "      <td>11077.710890</td>\n",
       "      <td>9999.0</td>\n",
       "      <td>24999.0</td>\n",
       "      <td>34999.0</td>\n",
       "      <td>43999.0</td>\n",
       "      <td>50899.0</td>\n",
       "    </tr>\n",
       "    <tr>\n",
       "      <th>SberMegaMarket</th>\n",
       "      <td>917.0</td>\n",
       "      <td>37777.541985</td>\n",
       "      <td>9384.652933</td>\n",
       "      <td>10500.0</td>\n",
       "      <td>31270.0</td>\n",
       "      <td>39370.0</td>\n",
       "      <td>44991.0</td>\n",
       "      <td>51810.0</td>\n",
       "    </tr>\n",
       "    <tr>\n",
       "      <th>WILDBERRIES</th>\n",
       "      <td>197.0</td>\n",
       "      <td>36398.335025</td>\n",
       "      <td>11258.854432</td>\n",
       "      <td>10990.0</td>\n",
       "      <td>27800.0</td>\n",
       "      <td>39990.0</td>\n",
       "      <td>45900.0</td>\n",
       "      <td>51777.0</td>\n",
       "    </tr>\n",
       "  </tbody>\n",
       "</table>\n",
       "</div>"
      ],
      "text/plain": [
       "                count          mean           std      min      25%      50%  \\\n",
       "Marketplace                                                                    \n",
       "DNS              44.0  38025.136364   7207.687181  25199.0  32024.0  38899.0   \n",
       "Mvideo          197.0  33937.177665  11077.710890   9999.0  24999.0  34999.0   \n",
       "SberMegaMarket  917.0  37777.541985   9384.652933  10500.0  31270.0  39370.0   \n",
       "WILDBERRIES     197.0  36398.335025  11258.854432  10990.0  27800.0  39990.0   \n",
       "\n",
       "                    75%      max  \n",
       "Marketplace                       \n",
       "DNS             44999.0  50099.0  \n",
       "Mvideo          43999.0  50899.0  \n",
       "SberMegaMarket  44991.0  51810.0  \n",
       "WILDBERRIES     45900.0  51777.0  "
      ]
     },
     "execution_count": 50,
     "metadata": {},
     "output_type": "execute_result"
    },
    {
     "data": {
      "image/png": "[encoded data removed]",
      "text/plain": [
       "<Figure size 864x432 with 1 Axes>"
      ]
     },
     "metadata": {
      "needs_background": "light"
     },
     "output_type": "display_data"
    }
   ],
   "source": [
    "fig = plt.figure(figsize=(12,6))\n",
    "sns.boxplot(x='PriceNow', y='Marketplace', data=df[df['Price_Category']=='cheap'], palette='rainbow')\n",
    "\n",
    "df[df['Price_Category']=='cheap'].groupby(['Marketplace'])['PriceNow'].describe()"
   ]
  },
  {
   "cell_type": "markdown",
   "id": "1448e105",
   "metadata": {},
   "source": [
    "##### Средняя цена"
   ]
  },
  {
   "cell_type": "code",
   "execution_count": 51,
   "id": "41fcb291",
   "metadata": {},
   "outputs": [
    {
     "data": {
      "text/html": [
       "<div>\n",
       "<style scoped>\n",
       "    .dataframe tbody tr th:only-of-type {\n",
       "        vertical-align: middle;\n",
       "    }\n",
       "\n",
       "    .dataframe tbody tr th {\n",
       "        vertical-align: top;\n",
       "    }\n",
       "\n",
       "    .dataframe thead th {\n",
       "        text-align: right;\n",
       "    }\n",
       "</style>\n",
       "<table border=\"1\" class=\"dataframe\">\n",
       "  <thead>\n",
       "    <tr style=\"text-align: right;\">\n",
       "      <th></th>\n",
       "      <th>count</th>\n",
       "      <th>mean</th>\n",
       "      <th>std</th>\n",
       "      <th>min</th>\n",
       "      <th>25%</th>\n",
       "      <th>50%</th>\n",
       "      <th>75%</th>\n",
       "      <th>max</th>\n",
       "    </tr>\n",
       "    <tr>\n",
       "      <th>Marketplace</th>\n",
       "      <th></th>\n",
       "      <th></th>\n",
       "      <th></th>\n",
       "      <th></th>\n",
       "      <th></th>\n",
       "      <th></th>\n",
       "      <th></th>\n",
       "      <th></th>\n",
       "    </tr>\n",
       "  </thead>\n",
       "  <tbody>\n",
       "    <tr>\n",
       "      <th>DNS</th>\n",
       "      <td>62.0</td>\n",
       "      <td>72649.000000</td>\n",
       "      <td>10253.360105</td>\n",
       "      <td>52999.0</td>\n",
       "      <td>65249.0</td>\n",
       "      <td>75599.0</td>\n",
       "      <td>80999.00</td>\n",
       "      <td>89099.0</td>\n",
       "    </tr>\n",
       "    <tr>\n",
       "      <th>Mvideo</th>\n",
       "      <td>138.0</td>\n",
       "      <td>67642.137681</td>\n",
       "      <td>10348.067733</td>\n",
       "      <td>51999.0</td>\n",
       "      <td>59999.0</td>\n",
       "      <td>65499.0</td>\n",
       "      <td>77849.00</td>\n",
       "      <td>88190.0</td>\n",
       "    </tr>\n",
       "    <tr>\n",
       "      <th>SberMegaMarket</th>\n",
       "      <td>867.0</td>\n",
       "      <td>68963.659746</td>\n",
       "      <td>10648.619388</td>\n",
       "      <td>51842.0</td>\n",
       "      <td>59658.5</td>\n",
       "      <td>68540.0</td>\n",
       "      <td>78508.00</td>\n",
       "      <td>89100.0</td>\n",
       "    </tr>\n",
       "    <tr>\n",
       "      <th>WILDBERRIES</th>\n",
       "      <td>288.0</td>\n",
       "      <td>69477.875000</td>\n",
       "      <td>10541.141854</td>\n",
       "      <td>51890.0</td>\n",
       "      <td>60665.0</td>\n",
       "      <td>69845.0</td>\n",
       "      <td>78787.25</td>\n",
       "      <td>89090.0</td>\n",
       "    </tr>\n",
       "  </tbody>\n",
       "</table>\n",
       "</div>"
      ],
      "text/plain": [
       "                count          mean           std      min      25%      50%  \\\n",
       "Marketplace                                                                    \n",
       "DNS              62.0  72649.000000  10253.360105  52999.0  65249.0  75599.0   \n",
       "Mvideo          138.0  67642.137681  10348.067733  51999.0  59999.0  65499.0   \n",
       "SberMegaMarket  867.0  68963.659746  10648.619388  51842.0  59658.5  68540.0   \n",
       "WILDBERRIES     288.0  69477.875000  10541.141854  51890.0  60665.0  69845.0   \n",
       "\n",
       "                     75%      max  \n",
       "Marketplace                        \n",
       "DNS             80999.00  89099.0  \n",
       "Mvideo          77849.00  88190.0  \n",
       "SberMegaMarket  78508.00  89100.0  \n",
       "WILDBERRIES     78787.25  89090.0  "
      ]
     },
     "execution_count": 51,
     "metadata": {},
     "output_type": "execute_result"
    },
    {
     "data": {
      "image/png": "[encoded data removed]",
      "text/plain": [
       "<Figure size 864x432 with 1 Axes>"
      ]
     },
     "metadata": {
      "needs_background": "light"
     },
     "output_type": "display_data"
    }
   ],
   "source": [
    "fig = plt.figure(figsize=(12,6))\n",
    "sns.boxplot(x='PriceNow', y='Marketplace', data=df[df['Price_Category']=='middle'], palette='rainbow')\n",
    "df[df['Price_Category']=='middle'].groupby(['Marketplace'])['PriceNow'].describe()"
   ]
  },
  {
   "cell_type": "markdown",
   "id": "f815bf98",
   "metadata": {},
   "source": [
    "##### Премиум"
   ]
  },
  {
   "cell_type": "code",
   "execution_count": 52,
   "id": "68117bd4",
   "metadata": {},
   "outputs": [
    {
     "data": {
      "text/html": [
       "<div>\n",
       "<style scoped>\n",
       "    .dataframe tbody tr th:only-of-type {\n",
       "        vertical-align: middle;\n",
       "    }\n",
       "\n",
       "    .dataframe tbody tr th {\n",
       "        vertical-align: top;\n",
       "    }\n",
       "\n",
       "    .dataframe thead th {\n",
       "        text-align: right;\n",
       "    }\n",
       "</style>\n",
       "<table border=\"1\" class=\"dataframe\">\n",
       "  <thead>\n",
       "    <tr style=\"text-align: right;\">\n",
       "      <th></th>\n",
       "      <th>count</th>\n",
       "      <th>mean</th>\n",
       "      <th>std</th>\n",
       "      <th>min</th>\n",
       "      <th>25%</th>\n",
       "      <th>50%</th>\n",
       "      <th>75%</th>\n",
       "      <th>max</th>\n",
       "    </tr>\n",
       "    <tr>\n",
       "      <th>Marketplace</th>\n",
       "      <th></th>\n",
       "      <th></th>\n",
       "      <th></th>\n",
       "      <th></th>\n",
       "      <th></th>\n",
       "      <th></th>\n",
       "      <th></th>\n",
       "      <th></th>\n",
       "    </tr>\n",
       "  </thead>\n",
       "  <tbody>\n",
       "    <tr>\n",
       "      <th>DNS</th>\n",
       "      <td>58.0</td>\n",
       "      <td>122261.068966</td>\n",
       "      <td>36097.061296</td>\n",
       "      <td>89999.0</td>\n",
       "      <td>99549.00</td>\n",
       "      <td>108899.0</td>\n",
       "      <td>132524.00</td>\n",
       "      <td>254999.0</td>\n",
       "    </tr>\n",
       "    <tr>\n",
       "      <th>Mvideo</th>\n",
       "      <td>157.0</td>\n",
       "      <td>141538.624204</td>\n",
       "      <td>55485.472072</td>\n",
       "      <td>89990.0</td>\n",
       "      <td>99999.00</td>\n",
       "      <td>119999.0</td>\n",
       "      <td>163690.00</td>\n",
       "      <td>419999.0</td>\n",
       "    </tr>\n",
       "    <tr>\n",
       "      <th>SberMegaMarket</th>\n",
       "      <td>864.0</td>\n",
       "      <td>143360.141204</td>\n",
       "      <td>61399.246198</td>\n",
       "      <td>89106.0</td>\n",
       "      <td>100298.75</td>\n",
       "      <td>119812.5</td>\n",
       "      <td>164890.00</td>\n",
       "      <td>443720.0</td>\n",
       "    </tr>\n",
       "    <tr>\n",
       "      <th>WILDBERRIES</th>\n",
       "      <td>274.0</td>\n",
       "      <td>134507.930657</td>\n",
       "      <td>38349.747818</td>\n",
       "      <td>89190.0</td>\n",
       "      <td>105990.00</td>\n",
       "      <td>123979.0</td>\n",
       "      <td>153566.25</td>\n",
       "      <td>305771.0</td>\n",
       "    </tr>\n",
       "  </tbody>\n",
       "</table>\n",
       "</div>"
      ],
      "text/plain": [
       "                count           mean           std      min        25%  \\\n",
       "Marketplace                                                              \n",
       "DNS              58.0  122261.068966  36097.061296  89999.0   99549.00   \n",
       "Mvideo          157.0  141538.624204  55485.472072  89990.0   99999.00   \n",
       "SberMegaMarket  864.0  143360.141204  61399.246198  89106.0  100298.75   \n",
       "WILDBERRIES     274.0  134507.930657  38349.747818  89190.0  105990.00   \n",
       "\n",
       "                     50%        75%       max  \n",
       "Marketplace                                    \n",
       "DNS             108899.0  132524.00  254999.0  \n",
       "Mvideo          119999.0  163690.00  419999.0  \n",
       "SberMegaMarket  119812.5  164890.00  443720.0  \n",
       "WILDBERRIES     123979.0  153566.25  305771.0  "
      ]
     },
     "execution_count": 52,
     "metadata": {},
     "output_type": "execute_result"
    },
    {
     "data": {
      "image/png": "[encoded data removed]",
      "text/plain": [
       "<Figure size 864x432 with 1 Axes>"
      ]
     },
     "metadata": {
      "needs_background": "light"
     },
     "output_type": "display_data"
    }
   ],
   "source": [
    "fig = plt.figure(figsize=(12,6))\n",
    "sns.boxplot(x='PriceNow', y='Marketplace', data=df[df['Price_Category']=='premium'], palette='rainbow')\n",
    "df[df['Price_Category']=='premium'].groupby(['Marketplace'])['PriceNow'].describe()"
   ]
  },
  {
   "cell_type": "markdown",
   "id": "273f1c9d-3638-4872-8e6b-a5a2a975e8d8",
   "metadata": {},
   "source": [
    "---"
   ]
  },
  {
   "cell_type": "code",
   "execution_count": null,
   "id": "391f2240-40c6-4877-9ccc-6d2968fc7786",
   "metadata": {},
   "outputs": [],
   "source": []
  }
 ],
 "metadata": {
  "kernelspec": {
   "display_name": "Python 3 (ipykernel)",
   "language": "python",
   "name": "python3"
  },
  "language_info": {
   "codemirror_mode": {
    "name": "ipython",
    "version": 3
   },
   "file_extension": ".py",
   "mimetype": "text/x-python",
   "name": "python",
   "nbconvert_exporter": "python",
   "pygments_lexer": "ipython3",
   "version": "3.9.7"
  },
  "vscode": {
   "interpreter": {
    "hash": "b0fa6594d8f4cbf19f97940f81e996739fb7646882a419484c72d19e05852a7e"
   }
  }
 },
 "nbformat": 4,
 "nbformat_minor": 5
}
